{
  "nbformat": 4,
  "nbformat_minor": 0,
  "metadata": {
    "colab": {
      "provenance": [],
      "include_colab_link": true
    },
    "kernelspec": {
      "name": "python3",
      "display_name": "Python 3"
    },
    "language_info": {
      "name": "python"
    }
  },
  "cells": [
    {
      "cell_type": "markdown",
      "metadata": {
        "id": "view-in-github",
        "colab_type": "text"
      },
      "source": [
        "<a href=\"https://colab.research.google.com/github/Elgrande02/VUT-Machine-learning/blob/main/Resultat_final.ipynb\" target=\"_parent\"><img src=\"https://colab.research.google.com/assets/colab-badge.svg\" alt=\"Open In Colab\"/></a>"
      ]
    },
    {
      "cell_type": "code",
      "source": [
        "from google.colab import drive\n",
        "drive.mount('/content/drive')"
      ],
      "metadata": {
        "colab": {
          "base_uri": "https://localhost:8080/"
        },
        "id": "DZjAG3y80mZe",
        "outputId": "046cdfb1-59a9-407f-a462-c61f10f4ce48"
      },
      "execution_count": 17,
      "outputs": [
        {
          "output_type": "stream",
          "name": "stdout",
          "text": [
            "Drive already mounted at /content/drive; to attempt to forcibly remount, call drive.mount(\"/content/drive\", force_remount=True).\n"
          ]
        }
      ]
    },
    {
      "cell_type": "code",
      "source": [
        "import numpy as np\n",
        "import pandas as pd\n",
        "from sklearn.model_selection import train_test_split\n",
        "from sklearn.preprocessing import StandardScaler\n",
        "from sklearn.svm import SVC\n",
        "from sklearn.metrics import accuracy_score\n",
        "from sklearn.model_selection import GridSearchCV\n",
        "from tensorflow.keras.models import Sequential\n",
        "from tensorflow.keras.layers import Dense\n",
        "from tensorflow.keras.utils import to_categorical\n",
        "from tensorflow.keras.callbacks import EarlyStopping"
      ],
      "metadata": {
        "id": "f_-48wbMZEsg"
      },
      "execution_count": 18,
      "outputs": []
    },
    {
      "cell_type": "code",
      "source": [
        "# Load the data\n",
        "x_train = pd.read_csv('/content/drive/MyDrive/x_train.csv')\n",
        "x_test = pd.read_csv('/content/drive/MyDrive/x_test.csv')\n",
        "y_train = pd.read_csv('/content/drive/MyDrive/y_train.csv')\n",
        "y_train['target']=y_train['target']-1"
      ],
      "metadata": {
        "id": "Ust4uHe1ZJaG"
      },
      "execution_count": 20,
      "outputs": []
    },
    {
      "cell_type": "code",
      "source": [
        "x_train.drop(['Tosc','Tmix','m_power','Unnamed: 0'], inplace=True, axis=1)\n",
        "x_test.drop(['Tosc','Tmix','m_power','Unnamed: 0'], inplace=True, axis=1)\n",
        "y_train.drop(['Unnamed: 0'], inplace=True, axis=1)"
      ],
      "metadata": {
        "id": "1SOHi5ATZPTG"
      },
      "execution_count": 21,
      "outputs": []
    },
    {
      "cell_type": "code",
      "source": [
        "# Drop any rows with missing values\n",
        "x_test = x_test.dropna()\n",
        "x_train = x_train.dropna()\n",
        "y_train = y_train.dropna()"
      ],
      "metadata": {
        "id": "k2IQ98PuZTnK"
      },
      "execution_count": 22,
      "outputs": []
    },
    {
      "cell_type": "code",
      "source": [
        "# Select columns to use as features (inputs) and target variable (output)\n",
        "feature_columns = [1, 2, 3, 4, 5, 7, 8, 9]\n",
        "target_column = 1"
      ],
      "metadata": {
        "id": "2s4xw1OkZW8I"
      },
      "execution_count": 23,
      "outputs": []
    },
    {
      "cell_type": "code",
      "source": [
        "# Split the data into train, validation, and test sets\n",
        "x_train, x_val, y_train, y_val = train_test_split(x_train, y_train, test_size=0.25, random_state=42)\n",
        "#x_test = x_val\n",
        "#y_test = y_val"
      ],
      "metadata": {
        "id": "tNEe3e-aZZ_v"
      },
      "execution_count": 24,
      "outputs": []
    },
    {
      "cell_type": "code",
      "source": [
        "# Normalize the data using StandardScaler\n",
        "scaler = StandardScaler()\n",
        "x_train = scaler.fit_transform(x_train)\n",
        "x_val = scaler.transform(x_val)\n",
        "x_test = scaler.transform(x_test)\n"
      ],
      "metadata": {
        "id": "tqGR5xnaZbnM"
      },
      "execution_count": 25,
      "outputs": []
    },
    {
      "cell_type": "code",
      "source": [
        "# Build a simple MLP model using Keras\n",
        "model = Sequential()\n",
        "model.add(Dense(128, input_dim=x_train.shape[1], activation='relu', input_shape=(8,)))\n",
        "model.add(Dense(64, activation='relu'))\n",
        "model.add(Dense(8, activation='softmax'))"
      ],
      "metadata": {
        "id": "FplvT5JVZebU"
      },
      "execution_count": 26,
      "outputs": []
    },
    {
      "cell_type": "code",
      "source": [
        "# Compile the model with Adam optimizer and categorical crossentropy loss\n",
        "model.compile(optimizer='adam', loss='sparse_categorical_crossentropy', metrics=['accuracy'])"
      ],
      "metadata": {
        "id": "hOetr-CwZgj0"
      },
      "execution_count": 27,
      "outputs": []
    },
    {
      "cell_type": "code",
      "source": [
        "# Train the model for 100 epochs with a batch size of 32, and use the validation set for early stopping\n",
        "history = model.fit(x_train, y_train, epochs=50, batch_size=32, validation_data=(x_val, y_val), verbose=2)\n"
      ],
      "metadata": {
        "id": "b5nRX7ZyZj8K",
        "colab": {
          "base_uri": "https://localhost:8080/"
        },
        "outputId": "998aa780-f5d9-4107-9ddd-c72b6025c53e"
      },
      "execution_count": 28,
      "outputs": [
        {
          "output_type": "stream",
          "name": "stdout",
          "text": [
            "Epoch 1/50\n",
            "360/360 - 2s - loss: 0.3084 - accuracy: 0.9582 - val_loss: 0.0301 - val_accuracy: 0.9966 - 2s/epoch - 5ms/step\n",
            "Epoch 2/50\n",
            "360/360 - 1s - loss: 0.0187 - accuracy: 0.9972 - val_loss: 0.0110 - val_accuracy: 0.9990 - 687ms/epoch - 2ms/step\n",
            "Epoch 3/50\n",
            "360/360 - 1s - loss: 0.0084 - accuracy: 0.9987 - val_loss: 0.0077 - val_accuracy: 0.9990 - 689ms/epoch - 2ms/step\n",
            "Epoch 4/50\n",
            "360/360 - 1s - loss: 0.0058 - accuracy: 0.9990 - val_loss: 0.0051 - val_accuracy: 0.9992 - 829ms/epoch - 2ms/step\n",
            "Epoch 5/50\n",
            "360/360 - 1s - loss: 0.0040 - accuracy: 0.9991 - val_loss: 0.0033 - val_accuracy: 0.9995 - 1s/epoch - 3ms/step\n",
            "Epoch 6/50\n",
            "360/360 - 1s - loss: 0.0038 - accuracy: 0.9991 - val_loss: 0.0036 - val_accuracy: 0.9992 - 1s/epoch - 3ms/step\n",
            "Epoch 7/50\n",
            "360/360 - 1s - loss: 0.0016 - accuracy: 0.9997 - val_loss: 0.0029 - val_accuracy: 0.9995 - 1s/epoch - 3ms/step\n",
            "Epoch 8/50\n",
            "360/360 - 1s - loss: 0.0019 - accuracy: 0.9996 - val_loss: 0.0025 - val_accuracy: 0.9995 - 775ms/epoch - 2ms/step\n",
            "Epoch 9/50\n",
            "360/360 - 1s - loss: 0.0028 - accuracy: 0.9994 - val_loss: 0.0023 - val_accuracy: 0.9992 - 668ms/epoch - 2ms/step\n",
            "Epoch 10/50\n",
            "360/360 - 1s - loss: 7.2222e-04 - accuracy: 0.9998 - val_loss: 0.0017 - val_accuracy: 0.9992 - 666ms/epoch - 2ms/step\n",
            "Epoch 11/50\n",
            "360/360 - 1s - loss: 7.7034e-04 - accuracy: 0.9997 - val_loss: 0.0014 - val_accuracy: 0.9995 - 643ms/epoch - 2ms/step\n",
            "Epoch 12/50\n",
            "360/360 - 1s - loss: 8.8414e-04 - accuracy: 0.9997 - val_loss: 0.0015 - val_accuracy: 0.9992 - 840ms/epoch - 2ms/step\n",
            "Epoch 13/50\n",
            "360/360 - 1s - loss: 1.9979e-04 - accuracy: 1.0000 - val_loss: 0.0011 - val_accuracy: 0.9997 - 1s/epoch - 3ms/step\n",
            "Epoch 14/50\n",
            "360/360 - 2s - loss: 1.4525e-04 - accuracy: 1.0000 - val_loss: 0.0014 - val_accuracy: 0.9997 - 2s/epoch - 5ms/step\n",
            "Epoch 15/50\n",
            "360/360 - 1s - loss: 1.2412e-04 - accuracy: 1.0000 - val_loss: 0.0012 - val_accuracy: 0.9997 - 1s/epoch - 4ms/step\n",
            "Epoch 16/50\n",
            "360/360 - 1s - loss: 1.2169e-04 - accuracy: 1.0000 - val_loss: 0.0011 - val_accuracy: 0.9997 - 638ms/epoch - 2ms/step\n",
            "Epoch 17/50\n",
            "360/360 - 1s - loss: 0.0020 - accuracy: 0.9997 - val_loss: 0.0013 - val_accuracy: 0.9997 - 658ms/epoch - 2ms/step\n",
            "Epoch 18/50\n",
            "360/360 - 1s - loss: 8.7159e-05 - accuracy: 1.0000 - val_loss: 0.0013 - val_accuracy: 0.9997 - 641ms/epoch - 2ms/step\n",
            "Epoch 19/50\n",
            "360/360 - 1s - loss: 1.7611e-04 - accuracy: 1.0000 - val_loss: 0.0013 - val_accuracy: 0.9995 - 901ms/epoch - 3ms/step\n",
            "Epoch 20/50\n",
            "360/360 - 1s - loss: 5.7009e-05 - accuracy: 1.0000 - val_loss: 0.0012 - val_accuracy: 0.9997 - 966ms/epoch - 3ms/step\n",
            "Epoch 21/50\n",
            "360/360 - 1s - loss: 5.0603e-05 - accuracy: 1.0000 - val_loss: 0.0012 - val_accuracy: 0.9997 - 1s/epoch - 3ms/step\n",
            "Epoch 22/50\n",
            "360/360 - 1s - loss: 0.0025 - accuracy: 0.9997 - val_loss: 0.0033 - val_accuracy: 0.9997 - 1s/epoch - 3ms/step\n",
            "Epoch 23/50\n",
            "360/360 - 1s - loss: 0.0026 - accuracy: 0.9996 - val_loss: 0.0018 - val_accuracy: 0.9995 - 749ms/epoch - 2ms/step\n",
            "Epoch 24/50\n",
            "360/360 - 1s - loss: 0.0021 - accuracy: 0.9997 - val_loss: 7.8965e-04 - val_accuracy: 0.9995 - 683ms/epoch - 2ms/step\n",
            "Epoch 25/50\n",
            "360/360 - 1s - loss: 9.5562e-04 - accuracy: 0.9997 - val_loss: 8.4836e-04 - val_accuracy: 0.9997 - 636ms/epoch - 2ms/step\n",
            "Epoch 26/50\n",
            "360/360 - 1s - loss: 5.7519e-04 - accuracy: 0.9998 - val_loss: 0.0012 - val_accuracy: 0.9997 - 653ms/epoch - 2ms/step\n",
            "Epoch 27/50\n",
            "360/360 - 1s - loss: 7.9289e-05 - accuracy: 1.0000 - val_loss: 5.5292e-04 - val_accuracy: 0.9997 - 705ms/epoch - 2ms/step\n",
            "Epoch 28/50\n",
            "360/360 - 1s - loss: 3.4766e-05 - accuracy: 1.0000 - val_loss: 6.2029e-04 - val_accuracy: 0.9997 - 645ms/epoch - 2ms/step\n",
            "Epoch 29/50\n",
            "360/360 - 1s - loss: 2.7183e-05 - accuracy: 1.0000 - val_loss: 5.7401e-04 - val_accuracy: 0.9997 - 646ms/epoch - 2ms/step\n",
            "Epoch 30/50\n",
            "360/360 - 1s - loss: 2.2392e-05 - accuracy: 1.0000 - val_loss: 5.5943e-04 - val_accuracy: 0.9997 - 672ms/epoch - 2ms/step\n",
            "Epoch 31/50\n",
            "360/360 - 1s - loss: 1.7905e-05 - accuracy: 1.0000 - val_loss: 6.4769e-04 - val_accuracy: 0.9997 - 660ms/epoch - 2ms/step\n",
            "Epoch 32/50\n",
            "360/360 - 1s - loss: 1.5620e-05 - accuracy: 1.0000 - val_loss: 5.6554e-04 - val_accuracy: 0.9997 - 657ms/epoch - 2ms/step\n",
            "Epoch 33/50\n",
            "360/360 - 1s - loss: 1.3669e-05 - accuracy: 1.0000 - val_loss: 4.9709e-04 - val_accuracy: 0.9997 - 669ms/epoch - 2ms/step\n",
            "Epoch 34/50\n",
            "360/360 - 1s - loss: 1.3591e-05 - accuracy: 1.0000 - val_loss: 6.3056e-04 - val_accuracy: 0.9997 - 655ms/epoch - 2ms/step\n",
            "Epoch 35/50\n",
            "360/360 - 1s - loss: 1.0681e-05 - accuracy: 1.0000 - val_loss: 6.5191e-04 - val_accuracy: 0.9997 - 662ms/epoch - 2ms/step\n",
            "Epoch 36/50\n",
            "360/360 - 1s - loss: 9.3671e-06 - accuracy: 1.0000 - val_loss: 5.8652e-04 - val_accuracy: 0.9997 - 683ms/epoch - 2ms/step\n",
            "Epoch 37/50\n",
            "360/360 - 1s - loss: 7.3601e-06 - accuracy: 1.0000 - val_loss: 8.0196e-04 - val_accuracy: 0.9997 - 653ms/epoch - 2ms/step\n",
            "Epoch 38/50\n",
            "360/360 - 1s - loss: 7.1154e-06 - accuracy: 1.0000 - val_loss: 8.0320e-04 - val_accuracy: 0.9997 - 834ms/epoch - 2ms/step\n",
            "Epoch 39/50\n",
            "360/360 - 1s - loss: 4.8844e-06 - accuracy: 1.0000 - val_loss: 8.1151e-04 - val_accuracy: 0.9997 - 1s/epoch - 3ms/step\n",
            "Epoch 40/50\n",
            "360/360 - 1s - loss: 9.6811e-06 - accuracy: 1.0000 - val_loss: 0.0014 - val_accuracy: 0.9997 - 1s/epoch - 3ms/step\n",
            "Epoch 41/50\n",
            "360/360 - 1s - loss: 1.0431e-05 - accuracy: 1.0000 - val_loss: 0.0046 - val_accuracy: 0.9992 - 1s/epoch - 3ms/step\n",
            "Epoch 42/50\n",
            "360/360 - 1s - loss: 0.0014 - accuracy: 0.9997 - val_loss: 0.0042 - val_accuracy: 0.9987 - 652ms/epoch - 2ms/step\n",
            "Epoch 43/50\n",
            "360/360 - 1s - loss: 0.0030 - accuracy: 0.9994 - val_loss: 0.0060 - val_accuracy: 0.9990 - 660ms/epoch - 2ms/step\n",
            "Epoch 44/50\n",
            "360/360 - 1s - loss: 0.0034 - accuracy: 0.9995 - val_loss: 0.0015 - val_accuracy: 0.9995 - 682ms/epoch - 2ms/step\n",
            "Epoch 45/50\n",
            "360/360 - 1s - loss: 2.5680e-05 - accuracy: 1.0000 - val_loss: 0.0015 - val_accuracy: 0.9995 - 640ms/epoch - 2ms/step\n",
            "Epoch 46/50\n",
            "360/360 - 1s - loss: 1.3195e-05 - accuracy: 1.0000 - val_loss: 0.0015 - val_accuracy: 0.9995 - 650ms/epoch - 2ms/step\n",
            "Epoch 47/50\n",
            "360/360 - 1s - loss: 9.5724e-06 - accuracy: 1.0000 - val_loss: 0.0014 - val_accuracy: 0.9995 - 660ms/epoch - 2ms/step\n",
            "Epoch 48/50\n",
            "360/360 - 1s - loss: 7.6740e-06 - accuracy: 1.0000 - val_loss: 0.0014 - val_accuracy: 0.9995 - 650ms/epoch - 2ms/step\n",
            "Epoch 49/50\n",
            "360/360 - 1s - loss: 6.3729e-06 - accuracy: 1.0000 - val_loss: 0.0014 - val_accuracy: 0.9995 - 663ms/epoch - 2ms/step\n",
            "Epoch 50/50\n",
            "360/360 - 1s - loss: 5.3813e-06 - accuracy: 1.0000 - val_loss: 0.0014 - val_accuracy: 0.9995 - 660ms/epoch - 2ms/step\n"
          ]
        }
      ]
    },
    {
      "cell_type": "code",
      "source": [
        "# Evaluate the model on the validation set\n",
        "val_loss, val_acc = model.evaluate(x_val, y_val, verbose=0)\n",
        "print(\"Validation Loss:\", val_loss)\n",
        "print(\"Validation Accuracy:\", val_acc)\n",
        "\n",
        "# Make predictions on the test set using the trained MLP model\n",
        "predictions = model.predict(x_test)\n",
        "\n",
        "# Train and evaluate an SVM model for comparison\n",
        "#y_train_svm = np.argmax(y_train, axis=1)\n",
        "#y_val_svm = np.argmax(y_val, axis=1)+1\n"
      ],
      "metadata": {
        "colab": {
          "base_uri": "https://localhost:8080/"
        },
        "id": "LTDahbeEVLOE",
        "outputId": "bb2530e4-8bb4-4545-ac20-5f076f70eb96"
      },
      "execution_count": 29,
      "outputs": [
        {
          "output_type": "stream",
          "name": "stdout",
          "text": [
            "Validation Loss: 0.0013596240896731615\n",
            "Validation Accuracy: 0.9994791746139526\n",
            "120/120 [==============================] - 0s 1ms/step\n"
          ]
        }
      ]
    },
    {
      "cell_type": "code",
      "source": [
        "# Affichage de la courbe d'exactitude\n",
        "import matplotlib.pyplot as plt\n",
        "plt.plot(history.history['accuracy'])\n",
        "plt.plot(history.history['val_accuracy'])\n",
        "plt.title('Courbe d\\'exactitude')\n",
        "plt.ylabel('Exactitude')\n",
        "plt.xlabel('Époque')\n",
        "plt.legend(['Entraînement', 'Validation'], loc='upper left')\n",
        "plt.show()\n",
        "\n",
        "# Affichage de la courbe de perte\n",
        "plt.plot(history.history['loss'])\n",
        "plt.plot(history.history['val_loss'])\n",
        "plt.title('Courbe de perte')\n",
        "plt.ylabel('Perte')\n",
        "plt.xlabel('Époque')\n",
        "plt.legend(['Entraînement', 'Validation'], loc='upper right')\n",
        "plt.show()"
      ],
      "metadata": {
        "colab": {
          "base_uri": "https://localhost:8080/",
          "height": 931
        },
        "id": "rpSIDaSC3Jh_",
        "outputId": "7579e3db-f226-4747-a457-61db33fdbb43"
      },
      "execution_count": 42,
      "outputs": [
        {
          "output_type": "display_data",
          "data": {
            "text/plain": [
              "<Figure size 640x480 with 1 Axes>"
            ],
            "image/png": "[encoded data removed]"
          },
          "metadata": {}
        },
        {
          "output_type": "display_data",
          "data": {
            "text/plain": [
              "<Figure size 640x480 with 1 Axes>"
            ],
            "image/png": "[encoded data removed]"
          },
          "metadata": {}
        }
      ]
    },
    {
      "cell_type": "code",
      "source": [
        "# Évaluation du modèle MLP sur l'ensemble de validation\n",
        "val_loss, val_acc = model.evaluate(x_val, y_val)\n",
        "print(\"Validation Loss:\", val_loss)\n",
        "print(\"Validation Accuracy:\", val_acc)\n",
        "\n"
      ],
      "metadata": {
        "colab": {
          "base_uri": "https://localhost:8080/"
        },
        "id": "bApKBSio4ezU",
        "outputId": "5908975d-9316-4b83-c027-d9346b6859b4"
      },
      "execution_count": 48,
      "outputs": [
        {
          "output_type": "stream",
          "name": "stdout",
          "text": [
            "120/120 [==============================] - 0s 2ms/step - loss: 0.0014 - accuracy: 0.9995\n",
            "Validation Loss: 0.0013596240896731615\n",
            "Validation Accuracy: 0.9994791746139526\n"
          ]
        }
      ]
    },
    {
      "cell_type": "code",
      "source": [
        "import numpy as np\n",
        "\n",
        "unique_classes_train = np.unique(y_train_svm)\n",
        "unique_classes_val = np.unique(y_val_svm)\n",
        "print(\"Number of unique classes in y_train_svm:\", len(unique_classes_train))\n",
        "print(\"Number of unique classes in y_val_svm:\", len(unique_classes_val))"
      ],
      "metadata": {
        "colab": {
          "base_uri": "https://localhost:8080/"
        },
        "id": "-V-hYtPA4Qhr",
        "outputId": "a6dc7b93-f3f7-4d95-ee09-5f3f8afda61b"
      },
      "execution_count": 54,
      "outputs": [
        {
          "output_type": "stream",
          "name": "stdout",
          "text": [
            "Number of unique classes in y_train_svm: 1\n",
            "Number of unique classes in y_val_svm: 1\n"
          ]
        }
      ]
    },
    {
      "cell_type": "code",
      "source": [
        "import time\n",
        "svm = SVC(C=1.0, kernel='rbf', gamma='scale', random_state=42)\n",
        "\n",
        "# Train and evaluate the SVM model\n",
        "start_time = time.time()\n",
        "svm.fit(x_train, y_train)\n",
        "svm_preds = svm.predict(x_val)\n",
        "svm_acc = accuracy_score(y_val, svm_preds)\n",
        "svm_time = time.time() - start_time\n",
        "\n",
        "# Train and evaluate the MLP model\n",
        "start_time = time.time()\n",
        "history = model.fit(x_train, y_train, epochs=50, batch_size=32, validation_data=(x_val, y_val), verbose=0)\n",
        "val_loss, val_acc = model.evaluate(x_val, y_val, verbose=0)\n",
        "mlp_time = time.time() - start_time\n",
        "\n",
        "# Print the accuracy scores and training times\n",
        "print(\"SVM Accuracy:\", svm_acc)\n",
        "print(\"SVM Training Time:\", svm_time)\n",
        "print(\"MLP Accuracy:\", val_acc)\n",
        "print(\"MLP Training Time:\", mlp_time)"
      ],
      "metadata": {
        "colab": {
          "base_uri": "https://localhost:8080/"
        },
        "id": "F-fqW8_o7mBY",
        "outputId": "9fbd850a-6e68-4494-a1f6-beeca229cad5"
      },
      "execution_count": 60,
      "outputs": [
        {
          "output_type": "stream",
          "name": "stderr",
          "text": [
            "/usr/local/lib/python3.9/dist-packages/sklearn/utils/validation.py:1143: DataConversionWarning: A column-vector y was passed when a 1d array was expected. Please change the shape of y to (n_samples, ), for example using ravel().\n",
            "  y = column_or_1d(y, warn=True)\n"
          ]
        },
        {
          "output_type": "stream",
          "name": "stdout",
          "text": [
            "SVM Accuracy: 0.9989583333333333\n",
            "SVM Training Time: 1.858180046081543\n",
            "MLP Accuracy: 0.9994791746139526\n",
            "MLP Training Time: 43.01319336891174\n"
          ]
        }
      ]
    },
    {
      "cell_type": "code",
      "source": [
        "import time\n",
        "# Define the hyperparameters to search over\n",
        "params = {'C': [0.1, 1, 10], 'kernel': ['linear', 'rbf'], 'gamma': ['scale', 'auto']}\n",
        "# Create a GridSearchCV object with the SVM model and hyperparameters\n",
        "svm_grid = GridSearchCV(svm, params, cv=5, verbose=2, n_jobs=-1)\n",
        "\n",
        "start_time = time.time()\n",
        "\n",
        "# Train the GridSearchCV object on the training set\n",
        "svm_grid.fit(x_train, y_train)\n",
        "svm_grid_time = time.time()-start_time\n",
        "print(\"SVM grid trianing time\", svm_grid_time)\n",
        "# Print the best hyperparameters and accuracy score\n",
        "print(\"Best SVM Parameters:\", svm_grid.best_params_)\n",
        "print(\"Best SVM Accuracy:\", svm_grid.best_score_)"
      ],
      "metadata": {
        "colab": {
          "base_uri": "https://localhost:8080/"
        },
        "id": "Y_g8EZnZ-CXr",
        "outputId": "4c6ad1ff-a7a2-4d89-9f02-edeee8617626"
      },
      "execution_count": 63,
      "outputs": [
        {
          "output_type": "stream",
          "name": "stdout",
          "text": [
            "Fitting 5 folds for each of 12 candidates, totalling 60 fits\n"
          ]
        },
        {
          "output_type": "stream",
          "name": "stderr",
          "text": [
            "/usr/local/lib/python3.9/dist-packages/sklearn/utils/validation.py:1143: DataConversionWarning: A column-vector y was passed when a 1d array was expected. Please change the shape of y to (n_samples, ), for example using ravel().\n",
            "  y = column_or_1d(y, warn=True)\n"
          ]
        },
        {
          "output_type": "stream",
          "name": "stdout",
          "text": [
            "SVM grid trianing time 14.654065608978271\n",
            "Best SVM Parameters: {'C': 1, 'gamma': 'scale', 'kernel': 'linear'}\n",
            "Best SVM Accuracy: 0.9996527777777778\n"
          ]
        }
      ]
    },
    {
      "cell_type": "code",
      "source": [],
      "metadata": {
        "id": "32nApPwA-drR"
      },
      "execution_count": null,
      "outputs": []
    },
    {
      "cell_type": "markdown",
      "source": [
        "display the result\n"
      ],
      "metadata": {
        "id": "bDWv-_cX3vOe"
      }
    },
    {
      "cell_type": "code",
      "source": [
        "import pandas as pd\n",
        "\n",
        "test_data = pd.read_csv('/content/drive/MyDrive/sample_file.csv')\n",
        "test_ids = test_data['id']\n"
      ],
      "metadata": {
        "id": "dI4dBWWJXXQI"
      },
      "execution_count": 35,
      "outputs": []
    },
    {
      "cell_type": "code",
      "source": [
        "import numpy as np\n",
        "\n",
        "# Assuming your predictions are named \"predictions\"\n",
        "submission = pd.DataFrame({'id': test_ids, 'target': np.argmax(predictions, axis=1)})\n",
        "submission.to_csv('submission.csv', index=False)\n"
      ],
      "metadata": {
        "id": "DK6YU9YeXfIZ"
      },
      "execution_count": 36,
      "outputs": []
    },
    {
      "cell_type": "code",
      "source": [
        "import numpy as np\n",
        "import pandas as pd\n",
        "\n",
        "# Assuming your predictions are named \"predictions\" and the test IDs are in a numpy array called \"test_ids\"\n",
        "output_df = pd.DataFrame({'id': test_ids, 'target': predictions.argmax(axis=1)+1})\n",
        "output_df.to_csv('predictions.csv', index=False)\n"
      ],
      "metadata": {
        "id": "i7qXAx9sWQ0C"
      },
      "execution_count": 37,
      "outputs": []
    },
    {
      "cell_type": "code",
      "source": [
        "import pandas as pd\n",
        "\n",
        "df = pd.read_csv(\"predictions.csv\")\n",
        "print(df.head())\n"
      ],
      "metadata": {
        "colab": {
          "base_uri": "https://localhost:8080/"
        },
        "id": "-82LPvgDXzKg",
        "outputId": "50141b4d-03ec-41e4-ac18-d6175e5001e9"
      },
      "execution_count": 38,
      "outputs": [
        {
          "output_type": "stream",
          "name": "stdout",
          "text": [
            "   id  target\n",
            "0   0       5\n",
            "1   1       8\n",
            "2   2       5\n",
            "3   3       1\n",
            "4   4       6\n"
          ]
        }
      ]
    },
    {
      "cell_type": "code",
      "source": [
        "from google.colab import files\n",
        "files.download('predictions.csv')\n"
      ],
      "metadata": {
        "colab": {
          "base_uri": "https://localhost:8080/",
          "height": 17
        },
        "id": "rFi5uw4nX9nB",
        "outputId": "a333c12d-0c3e-44d7-9c82-24974bc7907d"
      },
      "execution_count": 39,
      "outputs": [
        {
          "output_type": "display_data",
          "data": {
            "text/plain": [
              "<IPython.core.display.Javascript object>"
            ],
            "application/javascript": [
              "\n",
              "    async function download(id, filename, size) {\n",
              "      if (!google.colab.kernel.accessAllowed) {\n",
              "        return;\n",
              "      }\n",
              "      const div = document.createElement('div');\n",
              "      const label = document.createElement('label');\n",
              "      label.textContent = `Downloading \"${filename}\": `;\n",
              "      div.appendChild(label);\n",
              "      const progress = document.createElement('progress');\n",
              "      progress.max = size;\n",
              "      div.appendChild(progress);\n",
              "      document.body.appendChild(div);\n",
              "\n",
              "      const buffers = [];\n",
              "      let downloaded = 0;\n",
              "\n",
              "      const channel = await google.colab.kernel.comms.open(id);\n",
              "      // Send a message to notify the kernel that we're ready.\n",
              "      channel.send({})\n",
              "\n",
              "      for await (const message of channel.messages) {\n",
              "        // Send a message to notify the kernel that we're ready.\n",
              "        channel.send({})\n",
              "        if (message.buffers) {\n",
              "          for (const buffer of message.buffers) {\n",
              "            buffers.push(buffer);\n",
              "            downloaded += buffer.byteLength;\n",
              "            progress.value = downloaded;\n",
              "          }\n",
              "        }\n",
              "      }\n",
              "      const blob = new Blob(buffers, {type: 'application/binary'});\n",
              "      const a = document.createElement('a');\n",
              "      a.href = window.URL.createObjectURL(blob);\n",
              "      a.download = filename;\n",
              "      div.appendChild(a);\n",
              "      a.click();\n",
              "      div.remove();\n",
              "    }\n",
              "  "
            ]
          },
          "metadata": {}
        },
        {
          "output_type": "display_data",
          "data": {
            "text/plain": [
              "<IPython.core.display.Javascript object>"
            ],
            "application/javascript": [
              "download(\"download_5f5d211e-a2fc-4386-af9a-43a21f93c9e4\", \"predictions.csv\", 25780)"
            ]
          },
          "metadata": {}
        }
      ]
    }
  ]
}
{
  "nbformat": 4,
  "nbformat_minor": 0,
  "metadata": {
    "colab": {
      "provenance": [],
      "include_colab_link": true
    },
    "kernelspec": {
      "name": "python3",
      "display_name": "Python 3"
    },
    "language_info": {
      "name": "python"
    }
  },
  "cells": [
    {
      "cell_type": "markdown",
      "metadata": {
        "id": "view-in-github",
        "colab_type": "text"
      },
      "source": [
        "<a href=\"https://colab.research.google.com/github/Elgrande02/VUT-Machine-learning/blob/main/Projet_ML.ipynb\" target=\"_parent\"><img src=\"https://colab.research.google.com/assets/colab-badge.svg\" alt=\"Open In Colab\"/></a>"
      ]
    },
    {
      "cell_type": "code",
      "source": [
        "# connecting the drive\n",
        "from google.colab import drive\n",
        "drive.mount('/content/drive')"
      ],
      "metadata": {
        "colab": {
          "base_uri": "https://localhost:8080/"
        },
        "id": "DZjAG3y80mZe",
        "outputId": "0df00e24-5b39-4062-aa48-a50535a62309"
      },
      "execution_count": 1,
      "outputs": [
        {
          "output_type": "stream",
          "name": "stdout",
          "text": [
            "Mounted at /content/drive\n"
          ]
        }
      ]
    },
    {
      "cell_type": "code",
      "source": [
        "#importation of the librairy\n",
        "import numpy as np\n",
        "import pandas as pd\n",
        "from sklearn.model_selection import train_test_split\n",
        "from sklearn.preprocessing import StandardScaler\n",
        "from sklearn.svm import SVC\n",
        "from sklearn.metrics import accuracy_score\n",
        "from sklearn.model_selection import GridSearchCV\n",
        "from tensorflow.keras.models import Sequential\n",
        "from tensorflow.keras.layers import Dense\n",
        "from tensorflow.keras.utils import to_categorical\n",
        "from tensorflow.keras.callbacks import EarlyStopping"
      ],
      "metadata": {
        "id": "f_-48wbMZEsg"
      },
      "execution_count": 2,
      "outputs": []
    },
    {
      "cell_type": "code",
      "source": [
        "# Load the data\n",
        "x_train = pd.read_csv('/content/drive/MyDrive/x_train.csv')\n",
        "x_test = pd.read_csv('/content/drive/MyDrive/x_test.csv')\n",
        "y_train = pd.read_csv('/content/drive/MyDrive/y_train.csv')\n",
        "y_train['target']=y_train['target']-1"
      ],
      "metadata": {
        "id": "Ust4uHe1ZJaG"
      },
      "execution_count": 3,
      "outputs": []
    },
    {
      "cell_type": "code",
      "source": [
        "# Drop the rows that we do not need \n",
        "x_train.drop(['Tosc','Tmix','m_power','Unnamed: 0'], inplace=True, axis=1)\n",
        "x_test.drop(['Tosc','Tmix','m_power','Unnamed: 0'], inplace=True, axis=1)\n",
        "y_train.drop(['Unnamed: 0'], inplace=True, axis=1)"
      ],
      "metadata": {
        "id": "1SOHi5ATZPTG"
      },
      "execution_count": 4,
      "outputs": []
    },
    {
      "cell_type": "code",
      "source": [
        "# Drop any rows with missing values\n",
        "x_test = x_test.dropna()\n",
        "x_train = x_train.dropna()\n",
        "y_train = y_train.dropna()"
      ],
      "metadata": {
        "id": "k2IQ98PuZTnK"
      },
      "execution_count": 5,
      "outputs": []
    },
    {
      "cell_type": "code",
      "source": [
        "# Select columns to use as features (inputs) and target variable (output)\n",
        "feature_columns = [1, 2, 3, 4, 5, 7, 8, 9]\n",
        "target_column = 1"
      ],
      "metadata": {
        "id": "2s4xw1OkZW8I"
      },
      "execution_count": 6,
      "outputs": []
    },
    {
      "cell_type": "code",
      "source": [
        "# Split the data into train, validation, and test sets\n",
        "x_train, x_val, y_train, y_val = train_test_split(x_train, y_train, test_size=0.25, random_state=42)\n",
        "#x_test = x_val\n",
        "#y_test = y_val"
      ],
      "metadata": {
        "id": "tNEe3e-aZZ_v"
      },
      "execution_count": 7,
      "outputs": []
    },
    {
      "cell_type": "code",
      "source": [
        "# Normalize the data using StandardScaler\n",
        "scaler = StandardScaler()\n",
        "x_train = scaler.fit_transform(x_train)\n",
        "x_val = scaler.transform(x_val)\n",
        "x_test = scaler.transform(x_test)\n"
      ],
      "metadata": {
        "id": "tqGR5xnaZbnM"
      },
      "execution_count": 8,
      "outputs": []
    },
    {
      "cell_type": "code",
      "source": [
        "# Build a simple MLP model using Keras\n",
        "model = Sequential()\n",
        "model.add(Dense(128, input_dim=x_train.shape[1], activation='relu', input_shape=(8,)))\n",
        "model.add(Dense(64, activation='relu'))\n",
        "model.add(Dense(8, activation='softmax'))"
      ],
      "metadata": {
        "id": "FplvT5JVZebU"
      },
      "execution_count": 20,
      "outputs": []
    },
    {
      "cell_type": "code",
      "source": [
        "# Compile the model with Adam optimizer and categorical crossentropy loss\n",
        "model.compile(optimizer='adam', loss='sparse_categorical_crossentropy', metrics=['accuracy'])"
      ],
      "metadata": {
        "id": "hOetr-CwZgj0"
      },
      "execution_count": 21,
      "outputs": []
    },
    {
      "cell_type": "code",
      "source": [
        "# Train the model for 100 epochs with a batch size of 32, and use the validation set for early stopping the hyperparameter can be change to upgrade the efficiency\n",
        "history = model.fit(x_train, y_train, epochs=100, batch_size=32, validation_data=(x_val, y_val), verbose=2)\n"
      ],
      "metadata": {
        "id": "b5nRX7ZyZj8K",
        "colab": {
          "base_uri": "https://localhost:8080/"
        },
        "outputId": "09608f5c-0913-42d4-c502-32b5aa7ecd86"
      },
      "execution_count": 22,
      "outputs": [
        {
          "output_type": "stream",
          "name": "stdout",
          "text": [
            "Epoch 1/200\n",
            "720/720 - 5s - loss: 0.1451 - accuracy: 0.9679 - val_loss: 0.0098 - val_accuracy: 0.9979 - 5s/epoch - 7ms/step\n",
            "Epoch 2/200\n",
            "720/720 - 3s - loss: 0.0079 - accuracy: 0.9984 - val_loss: 0.0117 - val_accuracy: 0.9992 - 3s/epoch - 5ms/step\n",
            "Epoch 3/200\n",
            "720/720 - 2s - loss: 0.0069 - accuracy: 0.9990 - val_loss: 0.0053 - val_accuracy: 0.9992 - 2s/epoch - 2ms/step\n",
            "Epoch 4/200\n",
            "720/720 - 2s - loss: 0.0037 - accuracy: 0.9993 - val_loss: 0.0061 - val_accuracy: 0.9995 - 2s/epoch - 2ms/step\n",
            "Epoch 5/200\n",
            "720/720 - 1s - loss: 0.0040 - accuracy: 0.9987 - val_loss: 0.0024 - val_accuracy: 0.9995 - 1s/epoch - 2ms/step\n",
            "Epoch 6/200\n",
            "720/720 - 1s - loss: 0.0013 - accuracy: 0.9997 - val_loss: 0.0036 - val_accuracy: 0.9990 - 1s/epoch - 2ms/step\n",
            "Epoch 7/200\n",
            "720/720 - 2s - loss: 0.0038 - accuracy: 0.9995 - val_loss: 0.0026 - val_accuracy: 0.9995 - 2s/epoch - 2ms/step\n",
            "Epoch 8/200\n",
            "720/720 - 2s - loss: 0.0025 - accuracy: 0.9991 - val_loss: 0.0024 - val_accuracy: 0.9992 - 2s/epoch - 3ms/step\n",
            "Epoch 9/200\n",
            "720/720 - 3s - loss: 0.0014 - accuracy: 0.9996 - val_loss: 0.0020 - val_accuracy: 0.9995 - 3s/epoch - 4ms/step\n",
            "Epoch 10/200\n",
            "720/720 - 2s - loss: 0.0033 - accuracy: 0.9990 - val_loss: 0.0037 - val_accuracy: 0.9992 - 2s/epoch - 2ms/step\n",
            "Epoch 11/200\n",
            "720/720 - 2s - loss: 0.0037 - accuracy: 0.9989 - val_loss: 0.0016 - val_accuracy: 0.9995 - 2s/epoch - 2ms/step\n",
            "Epoch 12/200\n",
            "720/720 - 1s - loss: 0.0011 - accuracy: 0.9996 - val_loss: 0.0017 - val_accuracy: 0.9992 - 1s/epoch - 2ms/step\n",
            "Epoch 13/200\n",
            "720/720 - 2s - loss: 0.0012 - accuracy: 0.9997 - val_loss: 0.0043 - val_accuracy: 0.9995 - 2s/epoch - 2ms/step\n",
            "Epoch 14/200\n",
            "720/720 - 2s - loss: 0.0023 - accuracy: 0.9995 - val_loss: 0.0027 - val_accuracy: 0.9995 - 2s/epoch - 2ms/step\n",
            "Epoch 15/200\n",
            "720/720 - 2s - loss: 0.0014 - accuracy: 0.9998 - val_loss: 0.0011 - val_accuracy: 0.9995 - 2s/epoch - 2ms/step\n",
            "Epoch 16/200\n",
            "720/720 - 2s - loss: 1.0669e-04 - accuracy: 1.0000 - val_loss: 0.0019 - val_accuracy: 0.9995 - 2s/epoch - 3ms/step\n",
            "Epoch 17/200\n",
            "720/720 - 2s - loss: 0.0029 - accuracy: 0.9991 - val_loss: 6.6607e-04 - val_accuracy: 0.9997 - 2s/epoch - 3ms/step\n",
            "Epoch 18/200\n",
            "720/720 - 2s - loss: 0.0023 - accuracy: 0.9991 - val_loss: 0.0247 - val_accuracy: 0.9932 - 2s/epoch - 2ms/step\n",
            "Epoch 19/200\n",
            "720/720 - 1s - loss: 0.0018 - accuracy: 0.9995 - val_loss: 0.0014 - val_accuracy: 0.9992 - 1s/epoch - 2ms/step\n",
            "Epoch 20/200\n",
            "720/720 - 1s - loss: 1.1218e-04 - accuracy: 1.0000 - val_loss: 0.0016 - val_accuracy: 0.9995 - 1s/epoch - 2ms/step\n",
            "Epoch 21/200\n",
            "720/720 - 2s - loss: 3.4520e-05 - accuracy: 1.0000 - val_loss: 0.0013 - val_accuracy: 0.9995 - 2s/epoch - 2ms/step\n",
            "Epoch 22/200\n",
            "720/720 - 2s - loss: 2.4380e-05 - accuracy: 1.0000 - val_loss: 0.0017 - val_accuracy: 0.9995 - 2s/epoch - 2ms/step\n",
            "Epoch 23/200\n",
            "720/720 - 2s - loss: 9.8539e-06 - accuracy: 1.0000 - val_loss: 0.0015 - val_accuracy: 0.9995 - 2s/epoch - 2ms/step\n",
            "Epoch 24/200\n",
            "720/720 - 2s - loss: 5.6930e-06 - accuracy: 1.0000 - val_loss: 0.0016 - val_accuracy: 0.9995 - 2s/epoch - 2ms/step\n",
            "Epoch 25/200\n",
            "720/720 - 2s - loss: 3.6762e-06 - accuracy: 1.0000 - val_loss: 0.0017 - val_accuracy: 0.9995 - 2s/epoch - 3ms/step\n",
            "Epoch 26/200\n",
            "720/720 - 3s - loss: 2.5984e-06 - accuracy: 1.0000 - val_loss: 0.0014 - val_accuracy: 0.9995 - 3s/epoch - 4ms/step\n",
            "Epoch 27/200\n",
            "720/720 - 2s - loss: 2.1004e-06 - accuracy: 1.0000 - val_loss: 0.0014 - val_accuracy: 0.9995 - 2s/epoch - 2ms/step\n",
            "Epoch 28/200\n",
            "720/720 - 2s - loss: 1.4168e-06 - accuracy: 1.0000 - val_loss: 0.0014 - val_accuracy: 0.9995 - 2s/epoch - 3ms/step\n",
            "Epoch 29/200\n",
            "720/720 - 1s - loss: 8.6201e-07 - accuracy: 1.0000 - val_loss: 0.0016 - val_accuracy: 0.9995 - 1s/epoch - 2ms/step\n",
            "Epoch 30/200\n",
            "720/720 - 2s - loss: 0.0029 - accuracy: 0.9991 - val_loss: 0.0070 - val_accuracy: 0.9990 - 2s/epoch - 2ms/step\n",
            "Epoch 31/200\n",
            "720/720 - 2s - loss: 0.0022 - accuracy: 0.9996 - val_loss: 0.0022 - val_accuracy: 0.9990 - 2s/epoch - 2ms/step\n",
            "Epoch 32/200\n",
            "720/720 - 2s - loss: 0.0011 - accuracy: 0.9997 - val_loss: 0.0026 - val_accuracy: 0.9992 - 2s/epoch - 2ms/step\n",
            "Epoch 33/200\n",
            "720/720 - 2s - loss: 7.8626e-04 - accuracy: 0.9998 - val_loss: 0.0033 - val_accuracy: 0.9992 - 2s/epoch - 3ms/step\n",
            "Epoch 34/200\n",
            "720/720 - 4s - loss: 0.0019 - accuracy: 0.9997 - val_loss: 0.0017 - val_accuracy: 0.9995 - 4s/epoch - 5ms/step\n",
            "Epoch 35/200\n",
            "720/720 - 3s - loss: 4.1746e-04 - accuracy: 0.9999 - val_loss: 0.0016 - val_accuracy: 0.9995 - 3s/epoch - 4ms/step\n",
            "Epoch 36/200\n",
            "720/720 - 2s - loss: 0.0019 - accuracy: 0.9996 - val_loss: 0.0048 - val_accuracy: 0.9987 - 2s/epoch - 2ms/step\n",
            "Epoch 37/200\n",
            "720/720 - 2s - loss: 8.5781e-04 - accuracy: 0.9996 - val_loss: 0.0022 - val_accuracy: 0.9992 - 2s/epoch - 2ms/step\n",
            "Epoch 38/200\n",
            "720/720 - 2s - loss: 2.7577e-04 - accuracy: 0.9998 - val_loss: 0.0035 - val_accuracy: 0.9992 - 2s/epoch - 3ms/step\n",
            "Epoch 39/200\n",
            "720/720 - 2s - loss: 3.6515e-04 - accuracy: 0.9997 - val_loss: 8.1152e-04 - val_accuracy: 0.9997 - 2s/epoch - 3ms/step\n",
            "Epoch 40/200\n",
            "720/720 - 2s - loss: 5.7792e-06 - accuracy: 1.0000 - val_loss: 8.4104e-04 - val_accuracy: 0.9997 - 2s/epoch - 3ms/step\n",
            "Epoch 41/200\n",
            "720/720 - 1s - loss: 3.3594e-06 - accuracy: 1.0000 - val_loss: 8.2177e-04 - val_accuracy: 0.9997 - 1s/epoch - 2ms/step\n",
            "Epoch 42/200\n",
            "720/720 - 1s - loss: 2.1813e-06 - accuracy: 1.0000 - val_loss: 8.0790e-04 - val_accuracy: 0.9997 - 1s/epoch - 2ms/step\n",
            "Epoch 43/200\n",
            "720/720 - 1s - loss: 1.4666e-06 - accuracy: 1.0000 - val_loss: 8.3077e-04 - val_accuracy: 0.9997 - 1s/epoch - 2ms/step\n",
            "Epoch 44/200\n",
            "720/720 - 2s - loss: 9.8967e-07 - accuracy: 1.0000 - val_loss: 8.2804e-04 - val_accuracy: 0.9997 - 2s/epoch - 2ms/step\n",
            "Epoch 45/200\n",
            "720/720 - 2s - loss: 6.6710e-07 - accuracy: 1.0000 - val_loss: 8.4136e-04 - val_accuracy: 0.9997 - 2s/epoch - 2ms/step\n",
            "Epoch 46/200\n",
            "720/720 - 2s - loss: 4.5846e-07 - accuracy: 1.0000 - val_loss: 8.5690e-04 - val_accuracy: 0.9997 - 2s/epoch - 3ms/step\n",
            "Epoch 47/200\n",
            "720/720 - 3s - loss: 3.1850e-07 - accuracy: 1.0000 - val_loss: 8.4870e-04 - val_accuracy: 0.9997 - 3s/epoch - 3ms/step\n",
            "Epoch 48/200\n",
            "720/720 - 2s - loss: 2.1038e-07 - accuracy: 1.0000 - val_loss: 8.2455e-04 - val_accuracy: 0.9997 - 2s/epoch - 3ms/step\n",
            "Epoch 49/200\n",
            "720/720 - 1s - loss: 1.3618e-07 - accuracy: 1.0000 - val_loss: 7.3897e-04 - val_accuracy: 0.9997 - 1s/epoch - 2ms/step\n",
            "Epoch 50/200\n",
            "720/720 - 1s - loss: 8.8410e-08 - accuracy: 1.0000 - val_loss: 6.6160e-04 - val_accuracy: 0.9997 - 1s/epoch - 2ms/step\n",
            "Epoch 51/200\n",
            "720/720 - 2s - loss: 5.5040e-08 - accuracy: 1.0000 - val_loss: 5.8597e-04 - val_accuracy: 0.9997 - 2s/epoch - 2ms/step\n",
            "Epoch 52/200\n",
            "720/720 - 2s - loss: 3.8111e-08 - accuracy: 1.0000 - val_loss: 5.1675e-04 - val_accuracy: 0.9997 - 2s/epoch - 3ms/step\n",
            "Epoch 53/200\n",
            "720/720 - 2s - loss: 2.3345e-08 - accuracy: 1.0000 - val_loss: 4.7185e-04 - val_accuracy: 0.9997 - 2s/epoch - 3ms/step\n",
            "Epoch 54/200\n",
            "720/720 - 2s - loss: 1.8140e-08 - accuracy: 1.0000 - val_loss: 3.8527e-04 - val_accuracy: 0.9997 - 2s/epoch - 2ms/step\n",
            "Epoch 55/200\n",
            "720/720 - 3s - loss: 1.2076e-08 - accuracy: 1.0000 - val_loss: 3.9492e-04 - val_accuracy: 0.9997 - 3s/epoch - 4ms/step\n",
            "Epoch 56/200\n",
            "720/720 - 2s - loss: 8.4750e-09 - accuracy: 1.0000 - val_loss: 3.6895e-04 - val_accuracy: 0.9997 - 2s/epoch - 3ms/step\n",
            "Epoch 57/200\n",
            "720/720 - 1s - loss: 7.0263e-09 - accuracy: 1.0000 - val_loss: 3.5883e-04 - val_accuracy: 0.9997 - 1s/epoch - 2ms/step\n",
            "Epoch 58/200\n",
            "720/720 - 2s - loss: 5.2257e-09 - accuracy: 1.0000 - val_loss: 3.1917e-04 - val_accuracy: 0.9997 - 2s/epoch - 2ms/step\n",
            "Epoch 59/200\n",
            "720/720 - 2s - loss: 3.8288e-09 - accuracy: 1.0000 - val_loss: 3.3242e-04 - val_accuracy: 0.9997 - 2s/epoch - 2ms/step\n",
            "Epoch 60/200\n",
            "720/720 - 1s - loss: 2.9906e-09 - accuracy: 1.0000 - val_loss: 3.0330e-04 - val_accuracy: 0.9997 - 1s/epoch - 2ms/step\n",
            "Epoch 61/200\n",
            "720/720 - 1s - loss: 2.3593e-09 - accuracy: 1.0000 - val_loss: 3.2998e-04 - val_accuracy: 0.9997 - 1s/epoch - 2ms/step\n",
            "Epoch 62/200\n",
            "720/720 - 1s - loss: 0.0039 - accuracy: 0.9992 - val_loss: 0.0242 - val_accuracy: 0.9958 - 1s/epoch - 2ms/step\n",
            "Epoch 63/200\n",
            "720/720 - 2s - loss: 0.0094 - accuracy: 0.9990 - val_loss: 0.0045 - val_accuracy: 0.9995 - 2s/epoch - 3ms/step\n",
            "Epoch 64/200\n",
            "720/720 - 2s - loss: 0.0040 - accuracy: 0.9994 - val_loss: 0.0050 - val_accuracy: 0.9995 - 2s/epoch - 3ms/step\n",
            "Epoch 65/200\n",
            "720/720 - 2s - loss: 7.3098e-04 - accuracy: 0.9997 - val_loss: 0.0018 - val_accuracy: 0.9995 - 2s/epoch - 3ms/step\n",
            "Epoch 66/200\n",
            "720/720 - 2s - loss: 3.6616e-05 - accuracy: 1.0000 - val_loss: 0.0027 - val_accuracy: 0.9995 - 2s/epoch - 2ms/step\n",
            "Epoch 67/200\n",
            "720/720 - 2s - loss: 8.9827e-07 - accuracy: 1.0000 - val_loss: 0.0027 - val_accuracy: 0.9995 - 2s/epoch - 3ms/step\n",
            "Epoch 68/200\n",
            "720/720 - 2s - loss: 7.4876e-07 - accuracy: 1.0000 - val_loss: 0.0027 - val_accuracy: 0.9995 - 2s/epoch - 2ms/step\n",
            "Epoch 69/200\n",
            "720/720 - 2s - loss: 6.1538e-07 - accuracy: 1.0000 - val_loss: 0.0026 - val_accuracy: 0.9995 - 2s/epoch - 2ms/step\n",
            "Epoch 70/200\n",
            "720/720 - 1s - loss: 5.0503e-07 - accuracy: 1.0000 - val_loss: 0.0026 - val_accuracy: 0.9995 - 1s/epoch - 2ms/step\n",
            "Epoch 71/200\n",
            "720/720 - 2s - loss: 4.1289e-07 - accuracy: 1.0000 - val_loss: 0.0026 - val_accuracy: 0.9995 - 2s/epoch - 3ms/step\n",
            "Epoch 72/200\n",
            "720/720 - 3s - loss: 3.4551e-07 - accuracy: 1.0000 - val_loss: 0.0025 - val_accuracy: 0.9995 - 3s/epoch - 4ms/step\n",
            "Epoch 73/200\n",
            "720/720 - 2s - loss: 2.8736e-07 - accuracy: 1.0000 - val_loss: 0.0025 - val_accuracy: 0.9995 - 2s/epoch - 3ms/step\n",
            "Epoch 74/200\n",
            "720/720 - 1s - loss: 2.2998e-07 - accuracy: 1.0000 - val_loss: 0.0026 - val_accuracy: 0.9995 - 1s/epoch - 2ms/step\n",
            "Epoch 75/200\n",
            "720/720 - 1s - loss: 1.9154e-07 - accuracy: 1.0000 - val_loss: 0.0025 - val_accuracy: 0.9995 - 1s/epoch - 2ms/step\n",
            "Epoch 76/200\n",
            "720/720 - 1s - loss: 1.6550e-07 - accuracy: 1.0000 - val_loss: 0.0024 - val_accuracy: 0.9995 - 1s/epoch - 2ms/step\n",
            "Epoch 77/200\n",
            "720/720 - 1s - loss: 1.1818e-06 - accuracy: 1.0000 - val_loss: 0.0010 - val_accuracy: 0.9995 - 1s/epoch - 2ms/step\n",
            "Epoch 78/200\n",
            "720/720 - 1s - loss: 0.0089 - accuracy: 0.9993 - val_loss: 0.0040 - val_accuracy: 0.9995 - 1s/epoch - 2ms/step\n",
            "Epoch 79/200\n",
            "720/720 - 2s - loss: 0.0021 - accuracy: 0.9997 - val_loss: 0.0071 - val_accuracy: 0.9990 - 2s/epoch - 2ms/step\n",
            "Epoch 80/200\n",
            "720/720 - 2s - loss: 7.8890e-04 - accuracy: 0.9998 - val_loss: 0.0045 - val_accuracy: 0.9992 - 2s/epoch - 3ms/step\n",
            "Epoch 81/200\n",
            "720/720 - 3s - loss: 0.0033 - accuracy: 0.9994 - val_loss: 0.0074 - val_accuracy: 0.9990 - 3s/epoch - 4ms/step\n",
            "Epoch 82/200\n",
            "720/720 - 2s - loss: 6.2110e-04 - accuracy: 0.9998 - val_loss: 0.0049 - val_accuracy: 0.9990 - 2s/epoch - 2ms/step\n",
            "Epoch 83/200\n",
            "720/720 - 1s - loss: 4.9245e-04 - accuracy: 0.9998 - val_loss: 0.0039 - val_accuracy: 0.9992 - 1s/epoch - 2ms/step\n",
            "Epoch 84/200\n",
            "720/720 - 2s - loss: 8.6854e-07 - accuracy: 1.0000 - val_loss: 0.0038 - val_accuracy: 0.9992 - 2s/epoch - 3ms/step\n",
            "Epoch 85/200\n",
            "720/720 - 2s - loss: 6.2554e-07 - accuracy: 1.0000 - val_loss: 0.0037 - val_accuracy: 0.9992 - 2s/epoch - 2ms/step\n",
            "Epoch 86/200\n",
            "720/720 - 1s - loss: 5.0457e-07 - accuracy: 1.0000 - val_loss: 0.0036 - val_accuracy: 0.9992 - 1s/epoch - 2ms/step\n",
            "Epoch 87/200\n",
            "720/720 - 2s - loss: 4.1230e-07 - accuracy: 1.0000 - val_loss: 0.0035 - val_accuracy: 0.9992 - 2s/epoch - 2ms/step\n",
            "Epoch 88/200\n",
            "720/720 - 2s - loss: 3.3538e-07 - accuracy: 1.0000 - val_loss: 0.0034 - val_accuracy: 0.9992 - 2s/epoch - 3ms/step\n",
            "Epoch 89/200\n",
            "720/720 - 2s - loss: 2.7577e-07 - accuracy: 1.0000 - val_loss: 0.0033 - val_accuracy: 0.9992 - 2s/epoch - 3ms/step\n",
            "Epoch 90/200\n",
            "720/720 - 2s - loss: 2.2634e-07 - accuracy: 1.0000 - val_loss: 0.0033 - val_accuracy: 0.9992 - 2s/epoch - 3ms/step\n",
            "Epoch 91/200\n",
            "720/720 - 2s - loss: 1.8408e-07 - accuracy: 1.0000 - val_loss: 0.0032 - val_accuracy: 0.9992 - 2s/epoch - 3ms/step\n",
            "Epoch 92/200\n",
            "720/720 - 2s - loss: 1.4922e-07 - accuracy: 1.0000 - val_loss: 0.0032 - val_accuracy: 0.9992 - 2s/epoch - 3ms/step\n",
            "Epoch 93/200\n",
            "720/720 - 2s - loss: 1.2377e-07 - accuracy: 1.0000 - val_loss: 0.0031 - val_accuracy: 0.9992 - 2s/epoch - 2ms/step\n",
            "Epoch 94/200\n",
            "720/720 - 2s - loss: 1.0038e-07 - accuracy: 1.0000 - val_loss: 0.0030 - val_accuracy: 0.9992 - 2s/epoch - 2ms/step\n",
            "Epoch 95/200\n",
            "720/720 - 1s - loss: 7.7965e-08 - accuracy: 1.0000 - val_loss: 0.0030 - val_accuracy: 0.9992 - 1s/epoch - 2ms/step\n",
            "Epoch 96/200\n",
            "720/720 - 2s - loss: 5.3538e-08 - accuracy: 1.0000 - val_loss: 0.0029 - val_accuracy: 0.9992 - 2s/epoch - 3ms/step\n",
            "Epoch 97/200\n",
            "720/720 - 3s - loss: 3.6569e-08 - accuracy: 1.0000 - val_loss: 0.0029 - val_accuracy: 0.9992 - 3s/epoch - 4ms/step\n",
            "Epoch 98/200\n",
            "720/720 - 2s - loss: 2.8322e-08 - accuracy: 1.0000 - val_loss: 0.0028 - val_accuracy: 0.9992 - 2s/epoch - 2ms/step\n",
            "Epoch 99/200\n",
            "720/720 - 2s - loss: 1.9713e-08 - accuracy: 1.0000 - val_loss: 0.0027 - val_accuracy: 0.9992 - 2s/epoch - 2ms/step\n",
            "Epoch 100/200\n",
            "720/720 - 2s - loss: 1.3773e-08 - accuracy: 1.0000 - val_loss: 0.0028 - val_accuracy: 0.9992 - 2s/epoch - 2ms/step\n",
            "Epoch 101/200\n",
            "720/720 - 2s - loss: 1.1010e-08 - accuracy: 1.0000 - val_loss: 0.0028 - val_accuracy: 0.9992 - 2s/epoch - 2ms/step\n",
            "Epoch 102/200\n",
            "720/720 - 2s - loss: 8.4232e-09 - accuracy: 1.0000 - val_loss: 0.0028 - val_accuracy: 0.9992 - 2s/epoch - 2ms/step\n",
            "Epoch 103/200\n",
            "720/720 - 1s - loss: 5.7017e-09 - accuracy: 1.0000 - val_loss: 0.0027 - val_accuracy: 0.9992 - 1s/epoch - 2ms/step\n",
            "Epoch 104/200\n",
            "720/720 - 2s - loss: 3.8288e-09 - accuracy: 1.0000 - val_loss: 0.0025 - val_accuracy: 0.9992 - 2s/epoch - 3ms/step\n",
            "Epoch 105/200\n",
            "720/720 - 3s - loss: 3.0113e-09 - accuracy: 1.0000 - val_loss: 0.0025 - val_accuracy: 0.9992 - 3s/epoch - 4ms/step\n",
            "Epoch 106/200\n",
            "720/720 - 2s - loss: 2.1110e-09 - accuracy: 1.0000 - val_loss: 0.0024 - val_accuracy: 0.9992 - 2s/epoch - 2ms/step\n",
            "Epoch 107/200\n",
            "720/720 - 2s - loss: 1.6764e-09 - accuracy: 1.0000 - val_loss: 0.0024 - val_accuracy: 0.9992 - 2s/epoch - 2ms/step\n",
            "Epoch 108/200\n",
            "720/720 - 2s - loss: 1.2418e-09 - accuracy: 1.0000 - val_loss: 0.0024 - val_accuracy: 0.9992 - 2s/epoch - 2ms/step\n",
            "Epoch 109/200\n",
            "720/720 - 2s - loss: 9.8306e-10 - accuracy: 1.0000 - val_loss: 0.0022 - val_accuracy: 0.9992 - 2s/epoch - 2ms/step\n",
            "Epoch 110/200\n",
            "720/720 - 1s - loss: 7.6575e-10 - accuracy: 1.0000 - val_loss: 0.0024 - val_accuracy: 0.9992 - 1s/epoch - 2ms/step\n",
            "Epoch 111/200\n",
            "720/720 - 1s - loss: 6.0019e-10 - accuracy: 1.0000 - val_loss: 0.0022 - val_accuracy: 0.9995 - 1s/epoch - 2ms/step\n",
            "Epoch 112/200\n",
            "720/720 - 2s - loss: 4.8636e-10 - accuracy: 1.0000 - val_loss: 0.0022 - val_accuracy: 0.9995 - 2s/epoch - 3ms/step\n",
            "Epoch 113/200\n",
            "720/720 - 2s - loss: 3.3114e-10 - accuracy: 1.0000 - val_loss: 0.0025 - val_accuracy: 0.9992 - 2s/epoch - 3ms/step\n",
            "Epoch 114/200\n",
            "720/720 - 2s - loss: 3.5183e-10 - accuracy: 1.0000 - val_loss: 0.0024 - val_accuracy: 0.9992 - 2s/epoch - 2ms/step\n",
            "Epoch 115/200\n",
            "720/720 - 1s - loss: 2.4835e-10 - accuracy: 1.0000 - val_loss: 0.0023 - val_accuracy: 0.9992 - 1s/epoch - 2ms/step\n",
            "Epoch 116/200\n",
            "720/720 - 1s - loss: 1.8626e-10 - accuracy: 1.0000 - val_loss: 0.0022 - val_accuracy: 0.9995 - 1s/epoch - 2ms/step\n",
            "Epoch 117/200\n",
            "720/720 - 1s - loss: 1.4487e-10 - accuracy: 1.0000 - val_loss: 0.0022 - val_accuracy: 0.9992 - 1s/epoch - 2ms/step\n",
            "Epoch 118/200\n",
            "720/720 - 1s - loss: 1.5522e-10 - accuracy: 1.0000 - val_loss: 0.0022 - val_accuracy: 0.9995 - 1s/epoch - 2ms/step\n",
            "Epoch 119/200\n",
            "720/720 - 1s - loss: 1.1383e-10 - accuracy: 1.0000 - val_loss: 0.0021 - val_accuracy: 0.9995 - 1s/epoch - 2ms/step\n",
            "Epoch 120/200\n",
            "720/720 - 2s - loss: 9.3132e-11 - accuracy: 1.0000 - val_loss: 0.0024 - val_accuracy: 0.9995 - 2s/epoch - 2ms/step\n",
            "Epoch 121/200\n",
            "720/720 - 2s - loss: 8.2784e-11 - accuracy: 1.0000 - val_loss: 0.0024 - val_accuracy: 0.9992 - 2s/epoch - 3ms/step\n",
            "Epoch 122/200\n",
            "720/720 - 2s - loss: 6.2088e-11 - accuracy: 1.0000 - val_loss: 0.0022 - val_accuracy: 0.9992 - 2s/epoch - 3ms/step\n",
            "Epoch 123/200\n",
            "720/720 - 1s - loss: 3.1044e-11 - accuracy: 1.0000 - val_loss: 0.0023 - val_accuracy: 0.9995 - 1s/epoch - 2ms/step\n",
            "Epoch 124/200\n",
            "720/720 - 1s - loss: 4.1392e-11 - accuracy: 1.0000 - val_loss: 0.0022 - val_accuracy: 0.9995 - 1s/epoch - 2ms/step\n",
            "Epoch 125/200\n",
            "720/720 - 1s - loss: 4.1392e-11 - accuracy: 1.0000 - val_loss: 0.0023 - val_accuracy: 0.9995 - 1s/epoch - 2ms/step\n",
            "Epoch 126/200\n",
            "720/720 - 1s - loss: 3.1044e-11 - accuracy: 1.0000 - val_loss: 0.0022 - val_accuracy: 0.9995 - 1s/epoch - 2ms/step\n",
            "Epoch 127/200\n",
            "720/720 - 1s - loss: 3.1044e-11 - accuracy: 1.0000 - val_loss: 0.0022 - val_accuracy: 0.9995 - 1s/epoch - 2ms/step\n",
            "Epoch 128/200\n",
            "720/720 - 1s - loss: 3.1044e-11 - accuracy: 1.0000 - val_loss: 0.0022 - val_accuracy: 0.9995 - 1s/epoch - 2ms/step\n",
            "Epoch 129/200\n",
            "720/720 - 2s - loss: 4.1392e-11 - accuracy: 1.0000 - val_loss: 0.0022 - val_accuracy: 0.9995 - 2s/epoch - 3ms/step\n",
            "Epoch 130/200\n",
            "720/720 - 3s - loss: 2.0696e-11 - accuracy: 1.0000 - val_loss: 0.0022 - val_accuracy: 0.9995 - 3s/epoch - 4ms/step\n",
            "Epoch 131/200\n",
            "720/720 - 2s - loss: 1.0348e-11 - accuracy: 1.0000 - val_loss: 0.0023 - val_accuracy: 0.9995 - 2s/epoch - 2ms/step\n",
            "Epoch 132/200\n",
            "720/720 - 2s - loss: 2.0696e-11 - accuracy: 1.0000 - val_loss: 0.0023 - val_accuracy: 0.9995 - 2s/epoch - 3ms/step\n",
            "Epoch 133/200\n",
            "720/720 - 1s - loss: 3.1044e-11 - accuracy: 1.0000 - val_loss: 0.0022 - val_accuracy: 0.9995 - 1s/epoch - 2ms/step\n",
            "Epoch 134/200\n",
            "720/720 - 2s - loss: 2.0696e-11 - accuracy: 1.0000 - val_loss: 0.0022 - val_accuracy: 0.9995 - 2s/epoch - 2ms/step\n",
            "Epoch 135/200\n",
            "720/720 - 2s - loss: 2.0696e-11 - accuracy: 1.0000 - val_loss: 0.0023 - val_accuracy: 0.9995 - 2s/epoch - 2ms/step\n",
            "Epoch 136/200\n",
            "720/720 - 2s - loss: 3.1044e-11 - accuracy: 1.0000 - val_loss: 0.0022 - val_accuracy: 0.9995 - 2s/epoch - 2ms/step\n",
            "Epoch 137/200\n",
            "720/720 - 2s - loss: 2.0696e-11 - accuracy: 1.0000 - val_loss: 0.0022 - val_accuracy: 0.9995 - 2s/epoch - 2ms/step\n",
            "Epoch 138/200\n",
            "720/720 - 2s - loss: 1.0348e-11 - accuracy: 1.0000 - val_loss: 0.0023 - val_accuracy: 0.9995 - 2s/epoch - 3ms/step\n",
            "Epoch 139/200\n",
            "720/720 - 2s - loss: 1.0348e-11 - accuracy: 1.0000 - val_loss: 0.0023 - val_accuracy: 0.9995 - 2s/epoch - 3ms/step\n",
            "Epoch 140/200\n",
            "720/720 - 2s - loss: 1.0348e-11 - accuracy: 1.0000 - val_loss: 0.0023 - val_accuracy: 0.9995 - 2s/epoch - 2ms/step\n",
            "Epoch 141/200\n",
            "720/720 - 2s - loss: 1.0348e-11 - accuracy: 1.0000 - val_loss: 0.0023 - val_accuracy: 0.9995 - 2s/epoch - 2ms/step\n",
            "Epoch 142/200\n",
            "720/720 - 2s - loss: 1.0348e-11 - accuracy: 1.0000 - val_loss: 0.0023 - val_accuracy: 0.9995 - 2s/epoch - 2ms/step\n",
            "Epoch 143/200\n",
            "720/720 - 1s - loss: 0.0000e+00 - accuracy: 1.0000 - val_loss: 0.0023 - val_accuracy: 0.9995 - 1s/epoch - 2ms/step\n",
            "Epoch 144/200\n",
            "720/720 - 2s - loss: 0.0000e+00 - accuracy: 1.0000 - val_loss: 0.0023 - val_accuracy: 0.9995 - 2s/epoch - 2ms/step\n",
            "Epoch 145/200\n",
            "720/720 - 2s - loss: 0.0000e+00 - accuracy: 1.0000 - val_loss: 0.0023 - val_accuracy: 0.9995 - 2s/epoch - 3ms/step\n",
            "Epoch 146/200\n",
            "720/720 - 3s - loss: 0.0000e+00 - accuracy: 1.0000 - val_loss: 0.0024 - val_accuracy: 0.9995 - 3s/epoch - 4ms/step\n",
            "Epoch 147/200\n",
            "720/720 - 2s - loss: 0.0000e+00 - accuracy: 1.0000 - val_loss: 0.0024 - val_accuracy: 0.9995 - 2s/epoch - 3ms/step\n",
            "Epoch 148/200\n",
            "720/720 - 2s - loss: 1.0348e-11 - accuracy: 1.0000 - val_loss: 0.0023 - val_accuracy: 0.9995 - 2s/epoch - 2ms/step\n",
            "Epoch 149/200\n",
            "720/720 - 1s - loss: 0.0000e+00 - accuracy: 1.0000 - val_loss: 0.0023 - val_accuracy: 0.9995 - 1s/epoch - 2ms/step\n",
            "Epoch 150/200\n",
            "720/720 - 2s - loss: 0.0000e+00 - accuracy: 1.0000 - val_loss: 0.0024 - val_accuracy: 0.9995 - 2s/epoch - 2ms/step\n",
            "Epoch 151/200\n",
            "720/720 - 2s - loss: 0.0000e+00 - accuracy: 1.0000 - val_loss: 0.0024 - val_accuracy: 0.9995 - 2s/epoch - 2ms/step\n",
            "Epoch 152/200\n",
            "720/720 - 2s - loss: 0.0000e+00 - accuracy: 1.0000 - val_loss: 0.0024 - val_accuracy: 0.9995 - 2s/epoch - 2ms/step\n",
            "Epoch 153/200\n",
            "720/720 - 2s - loss: 0.0000e+00 - accuracy: 1.0000 - val_loss: 0.0024 - val_accuracy: 0.9995 - 2s/epoch - 2ms/step\n",
            "Epoch 154/200\n",
            "720/720 - 3s - loss: 0.0000e+00 - accuracy: 1.0000 - val_loss: 0.0024 - val_accuracy: 0.9995 - 3s/epoch - 4ms/step\n",
            "Epoch 155/200\n",
            "720/720 - 3s - loss: 0.0000e+00 - accuracy: 1.0000 - val_loss: 0.0024 - val_accuracy: 0.9995 - 3s/epoch - 4ms/step\n",
            "Epoch 156/200\n",
            "720/720 - 4s - loss: 0.0000e+00 - accuracy: 1.0000 - val_loss: 0.0024 - val_accuracy: 0.9995 - 4s/epoch - 5ms/step\n",
            "Epoch 157/200\n",
            "720/720 - 2s - loss: 0.0000e+00 - accuracy: 1.0000 - val_loss: 0.0024 - val_accuracy: 0.9995 - 2s/epoch - 2ms/step\n",
            "Epoch 158/200\n",
            "720/720 - 2s - loss: 0.0000e+00 - accuracy: 1.0000 - val_loss: 0.0024 - val_accuracy: 0.9995 - 2s/epoch - 2ms/step\n",
            "Epoch 159/200\n",
            "720/720 - 1s - loss: 0.0000e+00 - accuracy: 1.0000 - val_loss: 0.0024 - val_accuracy: 0.9995 - 1s/epoch - 2ms/step\n",
            "Epoch 160/200\n",
            "720/720 - 2s - loss: 0.0000e+00 - accuracy: 1.0000 - val_loss: 0.0024 - val_accuracy: 0.9995 - 2s/epoch - 3ms/step\n",
            "Epoch 161/200\n",
            "720/720 - 2s - loss: 0.0000e+00 - accuracy: 1.0000 - val_loss: 0.0024 - val_accuracy: 0.9995 - 2s/epoch - 3ms/step\n",
            "Epoch 162/200\n",
            "720/720 - 2s - loss: 0.0000e+00 - accuracy: 1.0000 - val_loss: 0.0024 - val_accuracy: 0.9995 - 2s/epoch - 2ms/step\n",
            "Epoch 163/200\n",
            "720/720 - 2s - loss: 0.0000e+00 - accuracy: 1.0000 - val_loss: 0.0024 - val_accuracy: 0.9995 - 2s/epoch - 2ms/step\n",
            "Epoch 164/200\n",
            "720/720 - 1s - loss: 0.0000e+00 - accuracy: 1.0000 - val_loss: 0.0024 - val_accuracy: 0.9995 - 1s/epoch - 2ms/step\n",
            "Epoch 165/200\n",
            "720/720 - 1s - loss: 0.0000e+00 - accuracy: 1.0000 - val_loss: 0.0024 - val_accuracy: 0.9995 - 1s/epoch - 2ms/step\n",
            "Epoch 166/200\n",
            "720/720 - 1s - loss: 0.0000e+00 - accuracy: 1.0000 - val_loss: 0.0024 - val_accuracy: 0.9995 - 1s/epoch - 2ms/step\n",
            "Epoch 167/200\n",
            "720/720 - 2s - loss: 0.0000e+00 - accuracy: 1.0000 - val_loss: 0.0024 - val_accuracy: 0.9995 - 2s/epoch - 2ms/step\n",
            "Epoch 168/200\n",
            "720/720 - 2s - loss: 0.0000e+00 - accuracy: 1.0000 - val_loss: 0.0024 - val_accuracy: 0.9995 - 2s/epoch - 3ms/step\n",
            "Epoch 169/200\n",
            "720/720 - 2s - loss: 0.0000e+00 - accuracy: 1.0000 - val_loss: 0.0024 - val_accuracy: 0.9995 - 2s/epoch - 3ms/step\n",
            "Epoch 170/200\n",
            "720/720 - 2s - loss: 0.0000e+00 - accuracy: 1.0000 - val_loss: 0.0024 - val_accuracy: 0.9995 - 2s/epoch - 3ms/step\n",
            "Epoch 171/200\n",
            "720/720 - 1s - loss: 0.0000e+00 - accuracy: 1.0000 - val_loss: 0.0024 - val_accuracy: 0.9995 - 1s/epoch - 2ms/step\n",
            "Epoch 172/200\n",
            "720/720 - 1s - loss: 0.0000e+00 - accuracy: 1.0000 - val_loss: 0.0024 - val_accuracy: 0.9995 - 1s/epoch - 2ms/step\n",
            "Epoch 173/200\n",
            "720/720 - 2s - loss: 0.0000e+00 - accuracy: 1.0000 - val_loss: 0.0024 - val_accuracy: 0.9995 - 2s/epoch - 2ms/step\n",
            "Epoch 174/200\n",
            "720/720 - 2s - loss: 0.0000e+00 - accuracy: 1.0000 - val_loss: 0.0024 - val_accuracy: 0.9995 - 2s/epoch - 2ms/step\n",
            "Epoch 175/200\n",
            "720/720 - 2s - loss: 0.0000e+00 - accuracy: 1.0000 - val_loss: 0.0024 - val_accuracy: 0.9995 - 2s/epoch - 2ms/step\n",
            "Epoch 176/200\n",
            "720/720 - 2s - loss: 0.0000e+00 - accuracy: 1.0000 - val_loss: 0.0024 - val_accuracy: 0.9995 - 2s/epoch - 2ms/step\n",
            "Epoch 177/200\n",
            "720/720 - 2s - loss: 0.0000e+00 - accuracy: 1.0000 - val_loss: 0.0024 - val_accuracy: 0.9995 - 2s/epoch - 3ms/step\n",
            "Epoch 178/200\n",
            "720/720 - 2s - loss: 0.0000e+00 - accuracy: 1.0000 - val_loss: 0.0024 - val_accuracy: 0.9995 - 2s/epoch - 3ms/step\n",
            "Epoch 179/200\n",
            "720/720 - 2s - loss: 0.0000e+00 - accuracy: 1.0000 - val_loss: 0.0024 - val_accuracy: 0.9995 - 2s/epoch - 2ms/step\n",
            "Epoch 180/200\n",
            "720/720 - 2s - loss: 0.0000e+00 - accuracy: 1.0000 - val_loss: 0.0024 - val_accuracy: 0.9995 - 2s/epoch - 2ms/step\n",
            "Epoch 181/200\n",
            "720/720 - 1s - loss: 0.0000e+00 - accuracy: 1.0000 - val_loss: 0.0024 - val_accuracy: 0.9995 - 1s/epoch - 2ms/step\n",
            "Epoch 182/200\n",
            "720/720 - 1s - loss: 0.0000e+00 - accuracy: 1.0000 - val_loss: 0.0024 - val_accuracy: 0.9995 - 1s/epoch - 2ms/step\n",
            "Epoch 183/200\n",
            "720/720 - 1s - loss: 0.0000e+00 - accuracy: 1.0000 - val_loss: 0.0024 - val_accuracy: 0.9995 - 1s/epoch - 2ms/step\n",
            "Epoch 184/200\n",
            "720/720 - 1s - loss: 0.0000e+00 - accuracy: 1.0000 - val_loss: 0.0024 - val_accuracy: 0.9995 - 1s/epoch - 2ms/step\n",
            "Epoch 185/200\n",
            "720/720 - 2s - loss: 0.0000e+00 - accuracy: 1.0000 - val_loss: 0.0024 - val_accuracy: 0.9995 - 2s/epoch - 3ms/step\n",
            "Epoch 186/200\n",
            "720/720 - 2s - loss: 0.0000e+00 - accuracy: 1.0000 - val_loss: 0.0024 - val_accuracy: 0.9995 - 2s/epoch - 3ms/step\n",
            "Epoch 187/200\n",
            "720/720 - 2s - loss: 0.0000e+00 - accuracy: 1.0000 - val_loss: 0.0025 - val_accuracy: 0.9995 - 2s/epoch - 3ms/step\n",
            "Epoch 188/200\n",
            "720/720 - 1s - loss: 0.0000e+00 - accuracy: 1.0000 - val_loss: 0.0025 - val_accuracy: 0.9995 - 1s/epoch - 2ms/step\n",
            "Epoch 189/200\n",
            "720/720 - 2s - loss: 0.0000e+00 - accuracy: 1.0000 - val_loss: 0.0025 - val_accuracy: 0.9995 - 2s/epoch - 2ms/step\n",
            "Epoch 190/200\n",
            "720/720 - 1s - loss: 0.0000e+00 - accuracy: 1.0000 - val_loss: 0.0025 - val_accuracy: 0.9995 - 1s/epoch - 2ms/step\n",
            "Epoch 191/200\n",
            "720/720 - 1s - loss: 0.0000e+00 - accuracy: 1.0000 - val_loss: 0.0025 - val_accuracy: 0.9995 - 1s/epoch - 2ms/step\n",
            "Epoch 192/200\n",
            "720/720 - 1s - loss: 0.0000e+00 - accuracy: 1.0000 - val_loss: 0.0025 - val_accuracy: 0.9995 - 1s/epoch - 2ms/step\n",
            "Epoch 193/200\n",
            "720/720 - 1s - loss: 0.0000e+00 - accuracy: 1.0000 - val_loss: 0.0025 - val_accuracy: 0.9995 - 1s/epoch - 2ms/step\n",
            "Epoch 194/200\n",
            "720/720 - 2s - loss: 0.0000e+00 - accuracy: 1.0000 - val_loss: 0.0025 - val_accuracy: 0.9995 - 2s/epoch - 3ms/step\n",
            "Epoch 195/200\n",
            "720/720 - 2s - loss: 0.0000e+00 - accuracy: 1.0000 - val_loss: 0.0025 - val_accuracy: 0.9995 - 2s/epoch - 3ms/step\n",
            "Epoch 196/200\n",
            "720/720 - 1s - loss: 0.0000e+00 - accuracy: 1.0000 - val_loss: 0.0025 - val_accuracy: 0.9995 - 1s/epoch - 2ms/step\n",
            "Epoch 197/200\n",
            "720/720 - 1s - loss: 0.0000e+00 - accuracy: 1.0000 - val_loss: 0.0025 - val_accuracy: 0.9995 - 1s/epoch - 2ms/step\n",
            "Epoch 198/200\n",
            "720/720 - 1s - loss: 0.0000e+00 - accuracy: 1.0000 - val_loss: 0.0025 - val_accuracy: 0.9995 - 1s/epoch - 2ms/step\n",
            "Epoch 199/200\n",
            "720/720 - 1s - loss: 0.0000e+00 - accuracy: 1.0000 - val_loss: 0.0025 - val_accuracy: 0.9995 - 1s/epoch - 2ms/step\n",
            "Epoch 200/200\n",
            "720/720 - 1s - loss: 0.0000e+00 - accuracy: 1.0000 - val_loss: 0.0025 - val_accuracy: 0.9995 - 1s/epoch - 2ms/step\n"
          ]
        }
      ]
    },
    {
      "cell_type": "code",
      "source": [
        "# Evaluate the model on the validation set\n",
        "val_loss, val_acc = model.evaluate(x_val, y_val, verbose=0)\n",
        "print(\"Validation Loss:\", val_loss)\n",
        "print(\"Validation Accuracy:\", val_acc)\n",
        "\n",
        "# Make predictions on the test set using the trained MLP model\n",
        "predictions = model.predict(x_test)\n",
        "\n",
        "# Train and evaluate an SVM model for comparison\n",
        "#y_train_svm = np.argmax(y_train, axis=1)\n",
        "#y_val_svm = np.argmax(y_val, axis=1)+1\n"
      ],
      "metadata": {
        "colab": {
          "base_uri": "https://localhost:8080/"
        },
        "id": "LTDahbeEVLOE",
        "outputId": "f2804437-4b42-405b-ca8b-42a90b9b21f9"
      },
      "execution_count": 23,
      "outputs": [
        {
          "output_type": "stream",
          "name": "stdout",
          "text": [
            "Validation Loss: 0.002492638537660241\n",
            "Validation Accuracy: 0.9994791746139526\n",
            "120/120 [==============================] - 0s 1ms/step\n"
          ]
        }
      ]
    },
    {
      "cell_type": "code",
      "source": [
        "# Affichage de la courbe d'exactitude\n",
        "import matplotlib.pyplot as plt\n",
        "plt.plot(history.history['accuracy'])\n",
        "plt.plot(history.history['val_accuracy'])\n",
        "plt.title('Exactness')\n",
        "plt.ylabel('Exactness')\n",
        "plt.xlabel('Epoch')\n",
        "plt.legend(['Training', 'Validation'], loc='upper left')\n",
        "plt.show()\n",
        "\n",
        "# Affichage de la courbe de perte\n",
        "plt.plot(history.history['loss'])\n",
        "plt.plot(history.history['val_loss'])\n",
        "plt.title('Loss curve')\n",
        "plt.ylabel('Loss')\n",
        "plt.xlabel('epoch')\n",
        "plt.legend(['training', 'Validation'], loc='upper right')\n",
        "plt.show()"
      ],
      "metadata": {
        "colab": {
          "base_uri": "https://localhost:8080/",
          "height": 927
        },
        "id": "rpSIDaSC3Jh_",
        "outputId": "22aca863-1fc1-42f9-bd8a-62b2b3cfce6a"
      },
      "execution_count": 24,
      "outputs": [
        {
          "output_type": "display_data",
          "data": {
            "text/plain": [
              "<Figure size 640x480 with 1 Axes>"
            ],
            "image/png": "[encoded data removed]"
          },
          "metadata": {}
        },
        {
          "output_type": "display_data",
          "data": {
            "text/plain": [
              "<Figure size 640x480 with 1 Axes>"
            ],
            "image/png": "[encoded data removed]"
          },
          "metadata": {}
        }
      ]
    },
    {
      "cell_type": "code",
      "source": [
        "import time\n",
        "svm = SVC(C=1.0, kernel='rbf', gamma='scale', random_state=42)\n",
        "\n",
        "# Train and evaluate the SVM model\n",
        "start_time = time.time()\n",
        "svm.fit(x_train, y_train)\n",
        "svm_preds = svm.predict(x_val)\n",
        "svm_acc = accuracy_score(y_val, svm_preds)\n",
        "svm_time = time.time() - start_time\n",
        "\n",
        "# Train and evaluate the MLP model\n",
        "start_time = time.time()\n",
        "history = model.fit(x_train, y_train, epochs=50, batch_size=32, validation_data=(x_val, y_val), verbose=0)\n",
        "val_loss, val_acc = model.evaluate(x_val, y_val, verbose=0)\n",
        "mlp_time = time.time() - start_time\n",
        "\n",
        "# Print the accuracy scores and training times\n",
        "print(\"SVM Accuracy:\", svm_acc)\n",
        "print(\"SVM Training Time:\", svm_time)\n",
        "print(\"MLP Accuracy:\", val_acc)\n",
        "print(\"MLP Training Time:\", mlp_time)"
      ],
      "metadata": {
        "colab": {
          "base_uri": "https://localhost:8080/"
        },
        "id": "F-fqW8_o7mBY",
        "outputId": "037f9a9a-f2ba-4cd5-b4c8-93d2b0ccc271"
      },
      "execution_count": 25,
      "outputs": [
        {
          "output_type": "stream",
          "name": "stderr",
          "text": [
            "/usr/local/lib/python3.9/dist-packages/sklearn/utils/validation.py:1143: DataConversionWarning: A column-vector y was passed when a 1d array was expected. Please change the shape of y to (n_samples, ), for example using ravel().\n",
            "  y = column_or_1d(y, warn=True)\n"
          ]
        },
        {
          "output_type": "stream",
          "name": "stdout",
          "text": [
            "SVM Accuracy: 0.9989583333333333\n",
            "SVM Training Time: 0.2643578052520752\n",
            "MLP Accuracy: 0.9994791746139526\n",
            "MLP Training Time: 52.39488863945007\n"
          ]
        }
      ]
    },
    {
      "cell_type": "code",
      "source": [
        "import time\n",
        "# Define the hyperparameters to search over\n",
        "params = {'C': [0.1, 1, 10], 'kernel': ['linear', 'rbf'], 'gamma': ['scale', 'auto']}\n",
        "# Create a GridSearchCV object with the SVM model and hyperparameters\n",
        "svm_grid = GridSearchCV(svm, params, cv=5, verbose=2, n_jobs=-1)\n",
        "\n",
        "start_time = time.time()\n",
        "\n",
        "# Train the GridSearchCV object on the training set\n",
        "svm_grid.fit(x_train, y_train)\n",
        "svm_grid_time = time.time()-start_time\n",
        "print(\"SVM grid trianing time\", svm_grid_time)\n",
        "# Print the best hyperparameters and accuracy score\n",
        "print(\"Best SVM Parameters:\", svm_grid.best_params_)\n",
        "print(\"Best SVM Accuracy:\", svm_grid.best_score_)"
      ],
      "metadata": {
        "colab": {
          "base_uri": "https://localhost:8080/"
        },
        "id": "Y_g8EZnZ-CXr",
        "outputId": "59e65d34-16b3-456f-e538-dca38d7fe4b7"
      },
      "execution_count": 26,
      "outputs": [
        {
          "output_type": "stream",
          "name": "stdout",
          "text": [
            "Fitting 5 folds for each of 12 candidates, totalling 60 fits\n",
            "SVM grid trianing time 14.847846269607544\n",
            "Best SVM Parameters: {'C': 1, 'gamma': 'scale', 'kernel': 'linear'}\n",
            "Best SVM Accuracy: 0.9996527777777778\n"
          ]
        },
        {
          "output_type": "stream",
          "name": "stderr",
          "text": [
            "/usr/local/lib/python3.9/dist-packages/sklearn/utils/validation.py:1143: DataConversionWarning: A column-vector y was passed when a 1d array was expected. Please change the shape of y to (n_samples, ), for example using ravel().\n",
            "  y = column_or_1d(y, warn=True)\n"
          ]
        }
      ]
    },
    {
      "cell_type": "markdown",
      "source": [
        "display the result\n"
      ],
      "metadata": {
        "id": "bDWv-_cX3vOe"
      }
    },
    {
      "cell_type": "code",
      "source": [
        "import pandas as pd\n",
        "\n",
        "test_data = pd.read_csv('/content/drive/MyDrive/sample_file.csv')\n",
        "test_ids = test_data['id']\n"
      ],
      "metadata": {
        "id": "dI4dBWWJXXQI"
      },
      "execution_count": 27,
      "outputs": []
    },
    {
      "cell_type": "code",
      "source": [
        "import numpy as np\n",
        "import pandas as pd\n",
        "\n",
        "# Assuming your predictions are named \"predictions\" and the test IDs are in a numpy array called \"test_ids\"\n",
        "output_df = pd.DataFrame({'id': test_ids, 'target': predictions.argmax(axis=1)+1})\n",
        "output_df.to_csv('predictions.csv', index=False)\n"
      ],
      "metadata": {
        "id": "i7qXAx9sWQ0C"
      },
      "execution_count": 28,
      "outputs": []
    },
    {
      "cell_type": "code",
      "source": [
        "import pandas as pd\n",
        "\n",
        "df = pd.read_csv(\"predictions.csv\")\n",
        "print(df.head())\n"
      ],
      "metadata": {
        "colab": {
          "base_uri": "https://localhost:8080/"
        },
        "id": "-82LPvgDXzKg",
        "outputId": "3c917a61-c18f-435a-f10a-5907a81b2617"
      },
      "execution_count": 29,
      "outputs": [
        {
          "output_type": "stream",
          "name": "stdout",
          "text": [
            "   id  target\n",
            "0   0       5\n",
            "1   1       8\n",
            "2   2       5\n",
            "3   3       1\n",
            "4   4       6\n"
          ]
        }
      ]
    },
    {
      "cell_type": "code",
      "source": [
        "from google.colab import files\n",
        "files.download('predictions.csv')\n"
      ],
      "metadata": {
        "colab": {
          "base_uri": "https://localhost:8080/",
          "height": 17
        },
        "id": "rFi5uw4nX9nB",
        "outputId": "86c00256-dd91-4d7a-9e22-689916f68558"
      },
      "execution_count": 30,
      "outputs": [
        {
          "output_type": "display_data",
          "data": {
            "text/plain": [
              "<IPython.core.display.Javascript object>"
            ],
            "application/javascript": [
              "\n",
              "    async function download(id, filename, size) {\n",
              "      if (!google.colab.kernel.accessAllowed) {\n",
              "        return;\n",
              "      }\n",
              "      const div = document.createElement('div');\n",
              "      const label = document.createElement('label');\n",
              "      label.textContent = `Downloading \"${filename}\": `;\n",
              "      div.appendChild(label);\n",
              "      const progress = document.createElement('progress');\n",
              "      progress.max = size;\n",
              "      div.appendChild(progress);\n",
              "      document.body.appendChild(div);\n",
              "\n",
              "      const buffers = [];\n",
              "      let downloaded = 0;\n",
              "\n",
              "      const channel = await google.colab.kernel.comms.open(id);\n",
              "      // Send a message to notify the kernel that we're ready.\n",
              "      channel.send({})\n",
              "\n",
              "      for await (const message of channel.messages) {\n",
              "        // Send a message to notify the kernel that we're ready.\n",
              "        channel.send({})\n",
              "        if (message.buffers) {\n",
              "          for (const buffer of message.buffers) {\n",
              "            buffers.push(buffer);\n",
              "            downloaded += buffer.byteLength;\n",
              "            progress.value = downloaded;\n",
              "          }\n",
              "        }\n",
              "      }\n",
              "      const blob = new Blob(buffers, {type: 'application/binary'});\n",
              "      const a = document.createElement('a');\n",
              "      a.href = window.URL.createObjectURL(blob);\n",
              "      a.download = filename;\n",
              "      div.appendChild(a);\n",
              "      a.click();\n",
              "      div.remove();\n",
              "    }\n",
              "  "
            ]
          },
          "metadata": {}
        },
        {
          "output_type": "display_data",
          "data": {
            "text/plain": [
              "<IPython.core.display.Javascript object>"
            ],
            "application/javascript": [
              "download(\"download_1594dbf8-2c9a-494a-8866-0f6d6c47b987\", \"predictions.csv\", 25780)"
            ]
          },
          "metadata": {}
        }
      ]
    }
  ]
}
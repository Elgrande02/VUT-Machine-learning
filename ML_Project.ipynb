{
  "nbformat": 4,
  "nbformat_minor": 0,
  "metadata": {
    "colab": {
      "provenance": [],
      "include_colab_link": true
    },
    "kernelspec": {
      "name": "python3",
      "display_name": "Python 3"
    },
    "language_info": {
      "name": "python"
    }
  },
  "cells": [
    {
      "cell_type": "markdown",
      "metadata": {
        "id": "view-in-github",
        "colab_type": "text"
      },
      "source": [
        "<a href=\"https://colab.research.google.com/github/Elgrande02/VUT-Machine-learning/blob/main/ML_Project.ipynb\" target=\"_parent\"><img src=\"https://colab.research.google.com/assets/colab-badge.svg\" alt=\"Open In Colab\"/></a>"
      ]
    },
    {
      "cell_type": "code",
      "source": [
        "# connecting the drive\n",
        "from google.colab import drive\n",
        "drive.mount('/content/drive')"
      ],
      "metadata": {
        "colab": {
          "base_uri": "https://localhost:8080/"
        },
        "id": "DZjAG3y80mZe",
        "outputId": "5da293c4-93e2-48d3-877d-ee825bd174c1"
      },
      "execution_count": 1,
      "outputs": [
        {
          "output_type": "stream",
          "name": "stdout",
          "text": [
            "Mounted at /content/drive\n"
          ]
        }
      ]
    },
    {
      "cell_type": "code",
      "source": [
        "#importation of the librairy\n",
        "import numpy as np\n",
        "import pandas as pd\n",
        "from sklearn.model_selection import train_test_split\n",
        "from sklearn.preprocessing import StandardScaler\n",
        "from sklearn.svm import SVC\n",
        "from sklearn.metrics import accuracy_score\n",
        "from sklearn.model_selection import GridSearchCV\n",
        "from tensorflow.keras.models import Sequential\n",
        "from tensorflow.keras.layers import Dense\n",
        "from tensorflow.keras.utils import to_categorical\n",
        "from tensorflow.keras.callbacks import EarlyStopping"
      ],
      "metadata": {
        "id": "f_-48wbMZEsg"
      },
      "execution_count": 2,
      "outputs": []
    },
    {
      "cell_type": "code",
      "source": [
        "# Load the data\n",
        "x_train = pd.read_csv('/content/drive/MyDrive/x_train.csv')\n",
        "x_test = pd.read_csv('/content/drive/MyDrive/x_test.csv')\n",
        "y_train = pd.read_csv('/content/drive/MyDrive/y_train.csv')\n",
        "y_train['target']=y_train['target']-1"
      ],
      "metadata": {
        "id": "Ust4uHe1ZJaG"
      },
      "execution_count": 3,
      "outputs": []
    },
    {
      "cell_type": "code",
      "source": [
        "# Drop the rows that we do not need \n",
        "x_train.drop(['Tosc','Tmix','m_power','Unnamed: 0'], inplace=True, axis=1)\n",
        "x_test.drop(['Tosc','Tmix','m_power','Unnamed: 0'], inplace=True, axis=1)\n",
        "y_train.drop(['Unnamed: 0'], inplace=True, axis=1)"
      ],
      "metadata": {
        "id": "1SOHi5ATZPTG"
      },
      "execution_count": 4,
      "outputs": []
    },
    {
      "cell_type": "code",
      "source": [
        "# Drop any rows with missing values\n",
        "x_test = x_test.dropna()\n",
        "x_train = x_train.dropna()\n",
        "y_train = y_train.dropna()"
      ],
      "metadata": {
        "id": "k2IQ98PuZTnK"
      },
      "execution_count": 5,
      "outputs": []
    },
    {
      "cell_type": "code",
      "source": [
        "# Select columns to use as features (inputs) and target variable (output)\n",
        "feature_columns = [1, 2, 3, 4, 5, 7, 8, 9]\n",
        "target_column = 1"
      ],
      "metadata": {
        "id": "2s4xw1OkZW8I"
      },
      "execution_count": 6,
      "outputs": []
    },
    {
      "cell_type": "code",
      "source": [
        "# Split the data into train, validation, and test sets\n",
        "x_train, x_val, y_train, y_val = train_test_split(x_train, y_train, test_size=0.25, random_state=42)\n",
        "#x_test = x_val\n",
        "#y_test = y_val"
      ],
      "metadata": {
        "id": "tNEe3e-aZZ_v"
      },
      "execution_count": 7,
      "outputs": []
    },
    {
      "cell_type": "code",
      "source": [
        "# Normalize the data using StandardScaler\n",
        "scaler = StandardScaler()\n",
        "x_train = scaler.fit_transform(x_train)\n",
        "x_val = scaler.transform(x_val)\n",
        "x_test = scaler.transform(x_test)\n"
      ],
      "metadata": {
        "id": "tqGR5xnaZbnM"
      },
      "execution_count": 8,
      "outputs": []
    },
    {
      "cell_type": "code",
      "source": [
        "# Build a simple MLP model using Keras\n",
        "model = Sequential()\n",
        "model.add(Dense(128, input_dim=x_train.shape[1], activation='relu', input_shape=(8,)))\n",
        "model.add(Dense(64, activation='relu'))\n",
        "model.add(Dense(8, activation='softmax'))"
      ],
      "metadata": {
        "id": "FplvT5JVZebU"
      },
      "execution_count": 9,
      "outputs": []
    },
    {
      "cell_type": "code",
      "source": [
        "# Compile the model with Adam optimizer and categorical crossentropy loss\n",
        "model.compile(optimizer='adam', loss='sparse_categorical_crossentropy', metrics=['accuracy'])"
      ],
      "metadata": {
        "id": "hOetr-CwZgj0"
      },
      "execution_count": 10,
      "outputs": []
    },
    {
      "cell_type": "code",
      "source": [
        "# Train the model for 100 epochs with a batch size of 32, and use the validation set for early stopping the hyperparameter can be change to upgrade the efficiency\n",
        "history = model.fit(x_train, y_train, epochs=100, batch_size=32, validation_data=(x_val, y_val), verbose=2)\n"
      ],
      "metadata": {
        "id": "b5nRX7ZyZj8K",
        "colab": {
          "base_uri": "https://localhost:8080/"
        },
        "outputId": "8c299a07-0476-4635-db8f-0e6536fae991"
      },
      "execution_count": 11,
      "outputs": [
        {
          "output_type": "stream",
          "name": "stdout",
          "text": [
            "Epoch 1/100\n",
            "360/360 - 2s - loss: 0.2750 - accuracy: 0.9521 - val_loss: 0.0273 - val_accuracy: 0.9969 - 2s/epoch - 6ms/step\n",
            "Epoch 2/100\n",
            "360/360 - 1s - loss: 0.0157 - accuracy: 0.9986 - val_loss: 0.0115 - val_accuracy: 0.9984 - 709ms/epoch - 2ms/step\n",
            "Epoch 3/100\n",
            "360/360 - 1s - loss: 0.0099 - accuracy: 0.9988 - val_loss: 0.0064 - val_accuracy: 0.9990 - 697ms/epoch - 2ms/step\n",
            "Epoch 4/100\n",
            "360/360 - 1s - loss: 0.0050 - accuracy: 0.9994 - val_loss: 0.0063 - val_accuracy: 0.9987 - 698ms/epoch - 2ms/step\n",
            "Epoch 5/100\n",
            "360/360 - 1s - loss: 0.0061 - accuracy: 0.9989 - val_loss: 0.0035 - val_accuracy: 0.9992 - 860ms/epoch - 2ms/step\n",
            "Epoch 6/100\n",
            "360/360 - 1s - loss: 0.0038 - accuracy: 0.9991 - val_loss: 0.0049 - val_accuracy: 0.9992 - 684ms/epoch - 2ms/step\n",
            "Epoch 7/100\n",
            "360/360 - 1s - loss: 0.0019 - accuracy: 0.9996 - val_loss: 0.0024 - val_accuracy: 0.9995 - 880ms/epoch - 2ms/step\n",
            "Epoch 8/100\n",
            "360/360 - 1s - loss: 0.0021 - accuracy: 0.9993 - val_loss: 0.0040 - val_accuracy: 0.9992 - 698ms/epoch - 2ms/step\n",
            "Epoch 9/100\n",
            "360/360 - 1s - loss: 0.0015 - accuracy: 0.9995 - val_loss: 0.0026 - val_accuracy: 0.9995 - 853ms/epoch - 2ms/step\n",
            "Epoch 10/100\n",
            "360/360 - 1s - loss: 8.2983e-04 - accuracy: 0.9998 - val_loss: 0.0030 - val_accuracy: 0.9995 - 1s/epoch - 3ms/step\n",
            "Epoch 11/100\n",
            "360/360 - 1s - loss: 0.0019 - accuracy: 0.9994 - val_loss: 0.0031 - val_accuracy: 0.9995 - 1s/epoch - 3ms/step\n",
            "Epoch 12/100\n",
            "360/360 - 1s - loss: 0.0017 - accuracy: 0.9995 - val_loss: 0.0025 - val_accuracy: 0.9995 - 1s/epoch - 3ms/step\n",
            "Epoch 13/100\n",
            "360/360 - 1s - loss: 8.6259e-04 - accuracy: 0.9997 - val_loss: 0.0023 - val_accuracy: 0.9997 - 1s/epoch - 3ms/step\n",
            "Epoch 14/100\n",
            "360/360 - 1s - loss: 8.7007e-04 - accuracy: 0.9998 - val_loss: 0.0024 - val_accuracy: 0.9995 - 700ms/epoch - 2ms/step\n",
            "Epoch 15/100\n",
            "360/360 - 1s - loss: 7.1016e-04 - accuracy: 0.9997 - val_loss: 0.0030 - val_accuracy: 0.9995 - 706ms/epoch - 2ms/step\n",
            "Epoch 16/100\n",
            "360/360 - 1s - loss: 0.0032 - accuracy: 0.9989 - val_loss: 0.0030 - val_accuracy: 0.9995 - 735ms/epoch - 2ms/step\n",
            "Epoch 17/100\n",
            "360/360 - 1s - loss: 6.6578e-04 - accuracy: 0.9999 - val_loss: 0.0015 - val_accuracy: 0.9997 - 742ms/epoch - 2ms/step\n",
            "Epoch 18/100\n",
            "360/360 - 1s - loss: 1.8506e-04 - accuracy: 0.9999 - val_loss: 6.9627e-04 - val_accuracy: 0.9997 - 717ms/epoch - 2ms/step\n",
            "Epoch 19/100\n",
            "360/360 - 1s - loss: 1.5300e-04 - accuracy: 1.0000 - val_loss: 0.0011 - val_accuracy: 0.9995 - 699ms/epoch - 2ms/step\n",
            "Epoch 20/100\n",
            "360/360 - 1s - loss: 1.0096e-04 - accuracy: 1.0000 - val_loss: 0.0011 - val_accuracy: 0.9997 - 775ms/epoch - 2ms/step\n",
            "Epoch 21/100\n",
            "360/360 - 1s - loss: 5.7460e-05 - accuracy: 1.0000 - val_loss: 8.2028e-04 - val_accuracy: 0.9997 - 870ms/epoch - 2ms/step\n",
            "Epoch 22/100\n",
            "360/360 - 1s - loss: 9.6216e-05 - accuracy: 1.0000 - val_loss: 0.0029 - val_accuracy: 0.9995 - 858ms/epoch - 2ms/step\n",
            "Epoch 23/100\n",
            "360/360 - 1s - loss: 0.0018 - accuracy: 0.9993 - val_loss: 0.0020 - val_accuracy: 0.9992 - 691ms/epoch - 2ms/step\n",
            "Epoch 24/100\n",
            "360/360 - 1s - loss: 4.9357e-04 - accuracy: 0.9998 - val_loss: 0.0017 - val_accuracy: 0.9995 - 670ms/epoch - 2ms/step\n",
            "Epoch 25/100\n",
            "360/360 - 1s - loss: 9.5906e-05 - accuracy: 1.0000 - val_loss: 6.0161e-04 - val_accuracy: 0.9997 - 860ms/epoch - 2ms/step\n",
            "Epoch 26/100\n",
            "360/360 - 1s - loss: 7.9999e-05 - accuracy: 1.0000 - val_loss: 8.6308e-04 - val_accuracy: 0.9997 - 782ms/epoch - 2ms/step\n",
            "Epoch 27/100\n",
            "360/360 - 1s - loss: 3.0256e-05 - accuracy: 1.0000 - val_loss: 8.2831e-04 - val_accuracy: 0.9997 - 1s/epoch - 3ms/step\n",
            "Epoch 28/100\n",
            "360/360 - 1s - loss: 2.3082e-05 - accuracy: 1.0000 - val_loss: 7.8630e-04 - val_accuracy: 0.9997 - 1s/epoch - 3ms/step\n",
            "Epoch 29/100\n",
            "360/360 - 1s - loss: 1.8748e-05 - accuracy: 1.0000 - val_loss: 9.2392e-04 - val_accuracy: 0.9997 - 1s/epoch - 3ms/step\n",
            "Epoch 30/100\n",
            "360/360 - 1s - loss: 1.7691e-05 - accuracy: 1.0000 - val_loss: 9.3340e-04 - val_accuracy: 0.9997 - 934ms/epoch - 3ms/step\n",
            "Epoch 31/100\n",
            "360/360 - 1s - loss: 1.5138e-05 - accuracy: 1.0000 - val_loss: 9.3117e-04 - val_accuracy: 0.9997 - 702ms/epoch - 2ms/step\n",
            "Epoch 32/100\n",
            "360/360 - 1s - loss: 1.4122e-05 - accuracy: 1.0000 - val_loss: 9.2323e-04 - val_accuracy: 0.9997 - 696ms/epoch - 2ms/step\n",
            "Epoch 33/100\n",
            "360/360 - 1s - loss: 1.4728e-05 - accuracy: 1.0000 - val_loss: 0.0013 - val_accuracy: 0.9997 - 707ms/epoch - 2ms/step\n",
            "Epoch 34/100\n",
            "360/360 - 1s - loss: 1.8331e-05 - accuracy: 1.0000 - val_loss: 8.9031e-04 - val_accuracy: 0.9997 - 671ms/epoch - 2ms/step\n",
            "Epoch 35/100\n",
            "360/360 - 1s - loss: 1.1208e-05 - accuracy: 1.0000 - val_loss: 8.4711e-04 - val_accuracy: 0.9997 - 692ms/epoch - 2ms/step\n",
            "Epoch 36/100\n",
            "360/360 - 1s - loss: 9.5722e-06 - accuracy: 1.0000 - val_loss: 0.0011 - val_accuracy: 0.9997 - 710ms/epoch - 2ms/step\n",
            "Epoch 37/100\n",
            "360/360 - 1s - loss: 0.0031 - accuracy: 0.9995 - val_loss: 0.0055 - val_accuracy: 0.9990 - 893ms/epoch - 2ms/step\n",
            "Epoch 38/100\n",
            "360/360 - 1s - loss: 0.0032 - accuracy: 0.9995 - val_loss: 0.0016 - val_accuracy: 0.9995 - 725ms/epoch - 2ms/step\n",
            "Epoch 39/100\n",
            "360/360 - 1s - loss: 0.0024 - accuracy: 0.9991 - val_loss: 0.0023 - val_accuracy: 0.9992 - 705ms/epoch - 2ms/step\n",
            "Epoch 40/100\n",
            "360/360 - 1s - loss: 1.2185e-04 - accuracy: 1.0000 - val_loss: 0.0011 - val_accuracy: 0.9997 - 758ms/epoch - 2ms/step\n",
            "Epoch 41/100\n",
            "360/360 - 1s - loss: 1.1850e-05 - accuracy: 1.0000 - val_loss: 9.3284e-04 - val_accuracy: 0.9997 - 851ms/epoch - 2ms/step\n",
            "Epoch 42/100\n",
            "360/360 - 1s - loss: 8.2258e-06 - accuracy: 1.0000 - val_loss: 8.5072e-04 - val_accuracy: 0.9997 - 876ms/epoch - 2ms/step\n",
            "Epoch 43/100\n",
            "360/360 - 1s - loss: 6.7567e-06 - accuracy: 1.0000 - val_loss: 8.0794e-04 - val_accuracy: 0.9997 - 691ms/epoch - 2ms/step\n",
            "Epoch 44/100\n",
            "360/360 - 1s - loss: 5.8502e-06 - accuracy: 1.0000 - val_loss: 7.6898e-04 - val_accuracy: 0.9997 - 1s/epoch - 3ms/step\n",
            "Epoch 45/100\n",
            "360/360 - 1s - loss: 5.1580e-06 - accuracy: 1.0000 - val_loss: 7.4693e-04 - val_accuracy: 0.9997 - 1s/epoch - 3ms/step\n",
            "Epoch 46/100\n",
            "360/360 - 1s - loss: 4.6831e-06 - accuracy: 1.0000 - val_loss: 7.1175e-04 - val_accuracy: 0.9997 - 1s/epoch - 3ms/step\n",
            "Epoch 47/100\n",
            "360/360 - 1s - loss: 4.1805e-06 - accuracy: 1.0000 - val_loss: 6.9567e-04 - val_accuracy: 0.9997 - 998ms/epoch - 3ms/step\n",
            "Epoch 48/100\n",
            "360/360 - 1s - loss: 3.8307e-06 - accuracy: 1.0000 - val_loss: 6.9461e-04 - val_accuracy: 0.9997 - 695ms/epoch - 2ms/step\n",
            "Epoch 49/100\n",
            "360/360 - 1s - loss: 3.4959e-06 - accuracy: 1.0000 - val_loss: 6.9766e-04 - val_accuracy: 0.9997 - 716ms/epoch - 2ms/step\n",
            "Epoch 50/100\n",
            "360/360 - 1s - loss: 3.1432e-06 - accuracy: 1.0000 - val_loss: 6.8522e-04 - val_accuracy: 0.9997 - 852ms/epoch - 2ms/step\n",
            "Epoch 51/100\n",
            "360/360 - 1s - loss: 2.8694e-06 - accuracy: 1.0000 - val_loss: 6.6044e-04 - val_accuracy: 0.9997 - 690ms/epoch - 2ms/step\n",
            "Epoch 52/100\n",
            "360/360 - 1s - loss: 2.5983e-06 - accuracy: 1.0000 - val_loss: 6.4579e-04 - val_accuracy: 0.9997 - 715ms/epoch - 2ms/step\n",
            "Epoch 53/100\n",
            "360/360 - 1s - loss: 2.3148e-06 - accuracy: 1.0000 - val_loss: 6.1972e-04 - val_accuracy: 0.9997 - 692ms/epoch - 2ms/step\n",
            "Epoch 54/100\n",
            "360/360 - 1s - loss: 2.0738e-06 - accuracy: 1.0000 - val_loss: 6.7820e-04 - val_accuracy: 0.9997 - 691ms/epoch - 2ms/step\n",
            "Epoch 55/100\n",
            "360/360 - 1s - loss: 1.9320e-06 - accuracy: 1.0000 - val_loss: 6.2723e-04 - val_accuracy: 0.9997 - 870ms/epoch - 2ms/step\n",
            "Epoch 56/100\n",
            "360/360 - 1s - loss: 1.7027e-06 - accuracy: 1.0000 - val_loss: 5.6672e-04 - val_accuracy: 0.9997 - 693ms/epoch - 2ms/step\n",
            "Epoch 57/100\n",
            "360/360 - 1s - loss: 1.4732e-06 - accuracy: 1.0000 - val_loss: 5.5544e-04 - val_accuracy: 0.9997 - 697ms/epoch - 2ms/step\n",
            "Epoch 58/100\n",
            "360/360 - 1s - loss: 1.3970e-06 - accuracy: 1.0000 - val_loss: 5.3210e-04 - val_accuracy: 0.9997 - 703ms/epoch - 2ms/step\n",
            "Epoch 59/100\n",
            "360/360 - 1s - loss: 1.3478e-06 - accuracy: 1.0000 - val_loss: 6.6681e-04 - val_accuracy: 0.9997 - 871ms/epoch - 2ms/step\n",
            "Epoch 60/100\n",
            "360/360 - 1s - loss: 1.0692e-06 - accuracy: 1.0000 - val_loss: 6.9554e-04 - val_accuracy: 0.9997 - 703ms/epoch - 2ms/step\n",
            "Epoch 61/100\n",
            "360/360 - 1s - loss: 1.6500e-06 - accuracy: 1.0000 - val_loss: 6.1689e-04 - val_accuracy: 0.9997 - 937ms/epoch - 3ms/step\n",
            "Epoch 62/100\n",
            "360/360 - 1s - loss: 8.4574e-07 - accuracy: 1.0000 - val_loss: 3.4281e-04 - val_accuracy: 0.9997 - 1s/epoch - 3ms/step\n",
            "Epoch 63/100\n",
            "360/360 - 1s - loss: 7.1129e-07 - accuracy: 1.0000 - val_loss: 3.8420e-04 - val_accuracy: 0.9997 - 1s/epoch - 3ms/step\n",
            "Epoch 64/100\n",
            "360/360 - 1s - loss: 6.1438e-07 - accuracy: 1.0000 - val_loss: 4.3823e-04 - val_accuracy: 0.9997 - 1s/epoch - 3ms/step\n",
            "Epoch 65/100\n",
            "360/360 - 1s - loss: 5.3103e-07 - accuracy: 1.0000 - val_loss: 6.6050e-04 - val_accuracy: 0.9997 - 779ms/epoch - 2ms/step\n",
            "Epoch 66/100\n",
            "360/360 - 1s - loss: 5.9384e-07 - accuracy: 1.0000 - val_loss: 3.6334e-04 - val_accuracy: 0.9997 - 691ms/epoch - 2ms/step\n",
            "Epoch 67/100\n",
            "360/360 - 1s - loss: 4.4577e-07 - accuracy: 1.0000 - val_loss: 4.3862e-04 - val_accuracy: 0.9997 - 744ms/epoch - 2ms/step\n",
            "Epoch 68/100\n",
            "360/360 - 1s - loss: 3.5087e-07 - accuracy: 1.0000 - val_loss: 7.5012e-04 - val_accuracy: 0.9997 - 712ms/epoch - 2ms/step\n",
            "Epoch 69/100\n",
            "360/360 - 1s - loss: 3.3493e-07 - accuracy: 1.0000 - val_loss: 4.5178e-04 - val_accuracy: 0.9997 - 856ms/epoch - 2ms/step\n",
            "Epoch 70/100\n",
            "360/360 - 1s - loss: 0.0048 - accuracy: 0.9993 - val_loss: 0.0063 - val_accuracy: 0.9992 - 846ms/epoch - 2ms/step\n",
            "Epoch 71/100\n",
            "360/360 - 1s - loss: 0.0027 - accuracy: 0.9995 - val_loss: 0.0026 - val_accuracy: 0.9997 - 692ms/epoch - 2ms/step\n",
            "Epoch 72/100\n",
            "360/360 - 1s - loss: 7.1492e-04 - accuracy: 0.9998 - val_loss: 5.5035e-04 - val_accuracy: 0.9997 - 700ms/epoch - 2ms/step\n",
            "Epoch 73/100\n",
            "360/360 - 1s - loss: 7.4690e-05 - accuracy: 1.0000 - val_loss: 9.6051e-04 - val_accuracy: 0.9997 - 710ms/epoch - 2ms/step\n",
            "Epoch 74/100\n",
            "360/360 - 1s - loss: 4.5593e-06 - accuracy: 1.0000 - val_loss: 9.0621e-04 - val_accuracy: 0.9997 - 684ms/epoch - 2ms/step\n",
            "Epoch 75/100\n",
            "360/360 - 1s - loss: 3.0042e-06 - accuracy: 1.0000 - val_loss: 8.7109e-04 - val_accuracy: 0.9997 - 705ms/epoch - 2ms/step\n",
            "Epoch 76/100\n",
            "360/360 - 1s - loss: 2.3973e-06 - accuracy: 1.0000 - val_loss: 8.4448e-04 - val_accuracy: 0.9997 - 714ms/epoch - 2ms/step\n",
            "Epoch 77/100\n",
            "360/360 - 1s - loss: 1.9916e-06 - accuracy: 1.0000 - val_loss: 8.2493e-04 - val_accuracy: 0.9997 - 842ms/epoch - 2ms/step\n",
            "Epoch 78/100\n",
            "360/360 - 1s - loss: 1.6905e-06 - accuracy: 1.0000 - val_loss: 8.1363e-04 - val_accuracy: 0.9997 - 833ms/epoch - 2ms/step\n",
            "Epoch 79/100\n",
            "360/360 - 1s - loss: 1.4412e-06 - accuracy: 1.0000 - val_loss: 7.9256e-04 - val_accuracy: 0.9997 - 1s/epoch - 3ms/step\n",
            "Epoch 80/100\n",
            "360/360 - 1s - loss: 1.2415e-06 - accuracy: 1.0000 - val_loss: 7.7806e-04 - val_accuracy: 0.9997 - 1s/epoch - 3ms/step\n",
            "Epoch 81/100\n",
            "360/360 - 1s - loss: 1.0640e-06 - accuracy: 1.0000 - val_loss: 7.7415e-04 - val_accuracy: 0.9997 - 1s/epoch - 3ms/step\n",
            "Epoch 82/100\n",
            "360/360 - 1s - loss: 9.4759e-07 - accuracy: 1.0000 - val_loss: 7.6473e-04 - val_accuracy: 0.9997 - 799ms/epoch - 2ms/step\n",
            "Epoch 83/100\n",
            "360/360 - 1s - loss: 8.3586e-07 - accuracy: 1.0000 - val_loss: 7.5673e-04 - val_accuracy: 0.9997 - 746ms/epoch - 2ms/step\n",
            "Epoch 84/100\n",
            "360/360 - 1s - loss: 7.4919e-07 - accuracy: 1.0000 - val_loss: 7.7736e-04 - val_accuracy: 0.9997 - 737ms/epoch - 2ms/step\n",
            "Epoch 85/100\n",
            "360/360 - 1s - loss: 6.7409e-07 - accuracy: 1.0000 - val_loss: 7.9038e-04 - val_accuracy: 0.9997 - 904ms/epoch - 3ms/step\n",
            "Epoch 86/100\n",
            "360/360 - 1s - loss: 5.9718e-07 - accuracy: 1.0000 - val_loss: 7.7746e-04 - val_accuracy: 0.9997 - 719ms/epoch - 2ms/step\n",
            "Epoch 87/100\n",
            "360/360 - 1s - loss: 5.5298e-07 - accuracy: 1.0000 - val_loss: 8.0914e-04 - val_accuracy: 0.9997 - 877ms/epoch - 2ms/step\n",
            "Epoch 88/100\n",
            "360/360 - 1s - loss: 5.0010e-07 - accuracy: 1.0000 - val_loss: 7.8107e-04 - val_accuracy: 0.9997 - 870ms/epoch - 2ms/step\n",
            "Epoch 89/100\n",
            "360/360 - 1s - loss: 4.5361e-07 - accuracy: 1.0000 - val_loss: 7.9110e-04 - val_accuracy: 0.9997 - 907ms/epoch - 3ms/step\n",
            "Epoch 90/100\n",
            "360/360 - 1s - loss: 4.0104e-07 - accuracy: 1.0000 - val_loss: 7.9299e-04 - val_accuracy: 0.9997 - 733ms/epoch - 2ms/step\n",
            "Epoch 91/100\n",
            "360/360 - 1s - loss: 3.8072e-07 - accuracy: 1.0000 - val_loss: 8.0008e-04 - val_accuracy: 0.9997 - 720ms/epoch - 2ms/step\n",
            "Epoch 92/100\n",
            "360/360 - 1s - loss: 3.3968e-07 - accuracy: 1.0000 - val_loss: 8.1778e-04 - val_accuracy: 0.9997 - 721ms/epoch - 2ms/step\n",
            "Epoch 93/100\n",
            "360/360 - 1s - loss: 3.0717e-07 - accuracy: 1.0000 - val_loss: 8.0508e-04 - val_accuracy: 0.9997 - 730ms/epoch - 2ms/step\n",
            "Epoch 94/100\n",
            "360/360 - 1s - loss: 2.7810e-07 - accuracy: 1.0000 - val_loss: 7.9939e-04 - val_accuracy: 0.9997 - 875ms/epoch - 2ms/step\n",
            "Epoch 95/100\n",
            "360/360 - 1s - loss: 2.4598e-07 - accuracy: 1.0000 - val_loss: 8.4880e-04 - val_accuracy: 0.9997 - 1s/epoch - 3ms/step\n",
            "Epoch 96/100\n",
            "360/360 - 1s - loss: 2.1693e-07 - accuracy: 1.0000 - val_loss: 8.0525e-04 - val_accuracy: 0.9997 - 1s/epoch - 4ms/step\n",
            "Epoch 97/100\n",
            "360/360 - 1s - loss: 2.0734e-07 - accuracy: 1.0000 - val_loss: 8.5307e-04 - val_accuracy: 0.9997 - 1s/epoch - 3ms/step\n",
            "Epoch 98/100\n",
            "360/360 - 1s - loss: 1.7953e-07 - accuracy: 1.0000 - val_loss: 9.3410e-04 - val_accuracy: 0.9997 - 756ms/epoch - 2ms/step\n",
            "Epoch 99/100\n",
            "360/360 - 1s - loss: 1.6364e-07 - accuracy: 1.0000 - val_loss: 7.3153e-04 - val_accuracy: 0.9997 - 717ms/epoch - 2ms/step\n",
            "Epoch 100/100\n",
            "360/360 - 1s - loss: 1.4419e-07 - accuracy: 1.0000 - val_loss: 7.7457e-04 - val_accuracy: 0.9997 - 692ms/epoch - 2ms/step\n"
          ]
        }
      ]
    },
    {
      "cell_type": "code",
      "source": [
        "# Evaluate the model on the validation set\n",
        "val_loss, val_acc = model.evaluate(x_val, y_val, verbose=0)\n",
        "print(\"Validation Loss:\", val_loss)\n",
        "print(\"Validation Accuracy:\", val_acc)\n",
        "\n",
        "# Make predictions on the test set using the trained MLP model\n",
        "predictions = model.predict(x_test)\n",
        "\n",
        "# Train and evaluate an SVM model for comparison\n",
        "#y_train_svm = np.argmax(y_train, axis=1)\n",
        "#y_val_svm = np.argmax(y_val, axis=1)+1\n"
      ],
      "metadata": {
        "colab": {
          "base_uri": "https://localhost:8080/"
        },
        "id": "LTDahbeEVLOE",
        "outputId": "426044be-9b6a-4a57-e01c-31f8fc40c836"
      },
      "execution_count": 12,
      "outputs": [
        {
          "output_type": "stream",
          "name": "stdout",
          "text": [
            "Validation Loss: 0.0007745666662231088\n",
            "Validation Accuracy: 0.9997395873069763\n",
            "120/120 [==============================] - 0s 2ms/step\n"
          ]
        }
      ]
    },
    {
      "cell_type": "code",
      "source": [
        "# Affichage de la courbe d'exactitude\n",
        "import matplotlib.pyplot as plt\n",
        "plt.plot(history.history['accuracy'])\n",
        "plt.plot(history.history['val_accuracy'])\n",
        "plt.title('Exactness')\n",
        "plt.ylabel('Exactness')\n",
        "plt.xlabel('Epoch')\n",
        "plt.legend(['Training', 'Validation'], loc='upper left')\n",
        "plt.show()\n",
        "\n",
        "# Affichage de la courbe de perte\n",
        "plt.plot(history.history['loss'])\n",
        "plt.plot(history.history['val_loss'])\n",
        "plt.title('Loss curve')\n",
        "plt.ylabel('Loss')\n",
        "plt.xlabel('epoch')\n",
        "plt.legend(['training', 'Validation'], loc='upper right')\n",
        "plt.show()"
      ],
      "metadata": {
        "colab": {
          "base_uri": "https://localhost:8080/",
          "height": 927
        },
        "id": "rpSIDaSC3Jh_",
        "outputId": "977945ef-633c-42de-be5c-e4c08f513522"
      },
      "execution_count": 13,
      "outputs": [
        {
          "output_type": "display_data",
          "data": {
            "text/plain": [
              "<Figure size 640x480 with 1 Axes>"
            ],
            "image/png": "[encoded data removed]"
          },
          "metadata": {}
        },
        {
          "output_type": "display_data",
          "data": {
            "text/plain": [
              "<Figure size 640x480 with 1 Axes>"
            ],
            "image/png": "[encoded data removed]"
          },
          "metadata": {}
        }
      ]
    },
    {
      "cell_type": "code",
      "source": [
        "import time\n",
        "svm = SVC(C=1.0, kernel='rbf', gamma='scale', random_state=42)\n",
        "\n",
        "# Train and evaluate the SVM model\n",
        "start_time = time.time()\n",
        "svm.fit(x_train, y_train)\n",
        "svm_preds = svm.predict(x_val)\n",
        "svm_acc = accuracy_score(y_val, svm_preds)\n",
        "svm_time = time.time() - start_time\n",
        "\n",
        "# Train and evaluate the MLP model\n",
        "start_time = time.time()\n",
        "history = model.fit(x_train, y_train, epochs=50, batch_size=32, validation_data=(x_val, y_val), verbose=0)\n",
        "val_loss, val_acc = model.evaluate(x_val, y_val, verbose=0)\n",
        "mlp_time = time.time() - start_time\n",
        "\n",
        "# Print the accuracy scores and training times\n",
        "print(\"SVM Accuracy:\", svm_acc)\n",
        "print(\"SVM Training Time:\", svm_time)\n",
        "print(\"MLP Accuracy:\", val_acc)\n",
        "print(\"MLP Training Time:\", mlp_time)"
      ],
      "metadata": {
        "colab": {
          "base_uri": "https://localhost:8080/"
        },
        "id": "F-fqW8_o7mBY",
        "outputId": "21e36e1a-ee62-416d-82f2-f7ded92be789"
      },
      "execution_count": 14,
      "outputs": [
        {
          "output_type": "stream",
          "name": "stderr",
          "text": [
            "/usr/local/lib/python3.9/dist-packages/sklearn/utils/validation.py:1143: DataConversionWarning: A column-vector y was passed when a 1d array was expected. Please change the shape of y to (n_samples, ), for example using ravel().\n",
            "  y = column_or_1d(y, warn=True)\n"
          ]
        },
        {
          "output_type": "stream",
          "name": "stdout",
          "text": [
            "SVM Accuracy: 0.9989583333333333\n",
            "SVM Training Time: 0.4709327220916748\n",
            "MLP Accuracy: 0.9997395873069763\n",
            "MLP Training Time: 41.942482709884644\n"
          ]
        }
      ]
    },
    {
      "cell_type": "code",
      "source": [
        "import time\n",
        "# Define the hyperparameters to search over\n",
        "params = {'C': [0.1, 1, 10], 'kernel': ['linear', 'rbf'], 'gamma': ['scale', 'auto']}\n",
        "# Create a GridSearchCV object with the SVM model and hyperparameters\n",
        "svm_grid = GridSearchCV(svm, params, cv=5, verbose=2, n_jobs=-1)\n",
        "\n",
        "start_time = time.time()\n",
        "\n",
        "# Train the GridSearchCV object on the training set\n",
        "svm_grid.fit(x_train, y_train)\n",
        "svm_grid_time = time.time()-start_time\n",
        "print(\"SVM grid trianing time\", svm_grid_time)\n",
        "# Print the best hyperparameters and accuracy score\n",
        "print(\"Best SVM Parameters:\", svm_grid.best_params_)\n",
        "print(\"Best SVM Accuracy:\", svm_grid.best_score_)"
      ],
      "metadata": {
        "colab": {
          "base_uri": "https://localhost:8080/"
        },
        "id": "Y_g8EZnZ-CXr",
        "outputId": "79f89985-a0a7-4ce9-ee26-00f476f36ea0"
      },
      "execution_count": 15,
      "outputs": [
        {
          "output_type": "stream",
          "name": "stdout",
          "text": [
            "Fitting 5 folds for each of 12 candidates, totalling 60 fits\n",
            "SVM grid trianing time 14.384825944900513\n",
            "Best SVM Parameters: {'C': 1, 'gamma': 'scale', 'kernel': 'linear'}\n",
            "Best SVM Accuracy: 0.9996527777777778\n"
          ]
        },
        {
          "output_type": "stream",
          "name": "stderr",
          "text": [
            "/usr/local/lib/python3.9/dist-packages/sklearn/utils/validation.py:1143: DataConversionWarning: A column-vector y was passed when a 1d array was expected. Please change the shape of y to (n_samples, ), for example using ravel().\n",
            "  y = column_or_1d(y, warn=True)\n"
          ]
        }
      ]
    },
    {
      "cell_type": "markdown",
      "source": [
        "display the result\n"
      ],
      "metadata": {
        "id": "bDWv-_cX3vOe"
      }
    },
    {
      "cell_type": "code",
      "source": [
        "import pandas as pd\n",
        "\n",
        "test_data = pd.read_csv('/content/drive/MyDrive/sample_file.csv')\n",
        "test_ids = test_data['id']\n"
      ],
      "metadata": {
        "id": "dI4dBWWJXXQI"
      },
      "execution_count": 16,
      "outputs": []
    },
    {
      "cell_type": "code",
      "source": [
        "import numpy as np\n",
        "import pandas as pd\n",
        "\n",
        "# Assuming your predictions are named \"predictions\" and the test IDs are in a numpy array called \"test_ids\"\n",
        "output_df = pd.DataFrame({'id': test_ids, 'target': predictions.argmax(axis=1)+1})\n",
        "output_df.to_csv('predictions.csv', index=False)\n"
      ],
      "metadata": {
        "id": "i7qXAx9sWQ0C"
      },
      "execution_count": 17,
      "outputs": []
    },
    {
      "cell_type": "code",
      "source": [
        "import pandas as pd\n",
        "\n",
        "df = pd.read_csv(\"predictions.csv\")\n",
        "print(df.head())\n"
      ],
      "metadata": {
        "colab": {
          "base_uri": "https://localhost:8080/"
        },
        "id": "-82LPvgDXzKg",
        "outputId": "5699bf00-a553-40f7-ac30-2b1fe139d757"
      },
      "execution_count": 18,
      "outputs": [
        {
          "output_type": "stream",
          "name": "stdout",
          "text": [
            "   id  target\n",
            "0   0       5\n",
            "1   1       8\n",
            "2   2       5\n",
            "3   3       1\n",
            "4   4       6\n"
          ]
        }
      ]
    },
    {
      "cell_type": "code",
      "source": [
        "from google.colab import files\n",
        "files.download('predictions.csv')\n"
      ],
      "metadata": {
        "colab": {
          "base_uri": "https://localhost:8080/",
          "height": 17
        },
        "id": "rFi5uw4nX9nB",
        "outputId": "4cfd789c-7029-44d9-852f-7f29afa79376"
      },
      "execution_count": 19,
      "outputs": [
        {
          "output_type": "display_data",
          "data": {
            "text/plain": [
              "<IPython.core.display.Javascript object>"
            ],
            "application/javascript": [
              "\n",
              "    async function download(id, filename, size) {\n",
              "      if (!google.colab.kernel.accessAllowed) {\n",
              "        return;\n",
              "      }\n",
              "      const div = document.createElement('div');\n",
              "      const label = document.createElement('label');\n",
              "      label.textContent = `Downloading \"${filename}\": `;\n",
              "      div.appendChild(label);\n",
              "      const progress = document.createElement('progress');\n",
              "      progress.max = size;\n",
              "      div.appendChild(progress);\n",
              "      document.body.appendChild(div);\n",
              "\n",
              "      const buffers = [];\n",
              "      let downloaded = 0;\n",
              "\n",
              "      const channel = await google.colab.kernel.comms.open(id);\n",
              "      // Send a message to notify the kernel that we're ready.\n",
              "      channel.send({})\n",
              "\n",
              "      for await (const message of channel.messages) {\n",
              "        // Send a message to notify the kernel that we're ready.\n",
              "        channel.send({})\n",
              "        if (message.buffers) {\n",
              "          for (const buffer of message.buffers) {\n",
              "            buffers.push(buffer);\n",
              "            downloaded += buffer.byteLength;\n",
              "            progress.value = downloaded;\n",
              "          }\n",
              "        }\n",
              "      }\n",
              "      const blob = new Blob(buffers, {type: 'application/binary'});\n",
              "      const a = document.createElement('a');\n",
              "      a.href = window.URL.createObjectURL(blob);\n",
              "      a.download = filename;\n",
              "      div.appendChild(a);\n",
              "      a.click();\n",
              "      div.remove();\n",
              "    }\n",
              "  "
            ]
          },
          "metadata": {}
        },
        {
          "output_type": "display_data",
          "data": {
            "text/plain": [
              "<IPython.core.display.Javascript object>"
            ],
            "application/javascript": [
              "download(\"download_376fbf2d-e74e-4946-b8e3-f3c2e45a2e40\", \"predictions.csv\", 25780)"
            ]
          },
          "metadata": {}
        }
      ]
    }
  ]
}